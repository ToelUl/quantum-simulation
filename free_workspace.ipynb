{
 "cells": [
  {
   "cell_type": "code",
   "id": "initial_id",
   "metadata": {
    "collapsed": true,
    "ExecuteTime": {
     "end_time": "2025-10-01T15:26:45.147836Z",
     "start_time": "2025-10-01T15:26:43.081561Z"
    }
   },
   "source": [
    "try:\n",
    "    import quantum_simulation as qs\n",
    "except ModuleNotFoundError:\n",
    "    !git clone https://github.com/ToelUl/quantum-simulation.git\n",
    "    !cp -r quantum-simulation/quantum_simulation ./\n",
    "    import quantum_simulation as qs"
   ],
   "outputs": [],
   "execution_count": 1
  },
  {
   "metadata": {
    "ExecuteTime": {
     "end_time": "2025-10-01T15:28:01.415130Z",
     "start_time": "2025-10-01T15:28:01.409790Z"
    }
   },
   "cell_type": "code",
   "source": "qs.show_matrix(qs.pauli_x(spin=0.5))",
   "id": "7f60974039f74681",
   "outputs": [
    {
     "data": {
      "text/plain": [
       "Matrix([\n",
       "[  0, 1.0],\n",
       "[1.0,   0]])"
      ],
      "text/latex": "$\\displaystyle \\left[\\begin{matrix}0 & 1.0\\\\1.0 & 0\\end{matrix}\\right]$"
     },
     "execution_count": 4,
     "metadata": {},
     "output_type": "execute_result"
    }
   ],
   "execution_count": 4
  },
  {
   "metadata": {},
   "cell_type": "code",
   "outputs": [],
   "execution_count": null,
   "source": "",
   "id": "ca6dae43b3bc48b4"
  }
 ],
 "metadata": {
  "kernelspec": {
   "display_name": "Python 3",
   "language": "python",
   "name": "python3"
  },
  "language_info": {
   "codemirror_mode": {
    "name": "ipython",
    "version": 2
   },
   "file_extension": ".py",
   "mimetype": "text/x-python",
   "name": "python",
   "nbconvert_exporter": "python",
   "pygments_lexer": "ipython2",
   "version": "2.7.6"
  }
 },
 "nbformat": 4,
 "nbformat_minor": 5
}
