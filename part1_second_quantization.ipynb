{
 "cells": [
  {
   "cell_type": "code",
   "id": "initial_id",
   "metadata": {
    "collapsed": true,
    "ExecuteTime": {
     "end_time": "2025-09-21T01:20:23.143070Z",
     "start_time": "2025-09-21T01:20:23.140137Z"
    }
   },
   "source": [
    "try:\n",
    "    import quantum_simulation as qs\n",
    "except ModuleNotFoundError:\n",
    "    !git clone https://github.com/ToelUl/quantum-simulation.git\n",
    "    !cp -r quantum-simulation/quantum_simulation ./\n",
    "    import quantum_simulation as qs"
   ],
   "outputs": [],
   "execution_count": 77
  },
  {
   "metadata": {},
   "cell_type": "markdown",
   "source": "### Spin-1/2 system",
   "id": "94fda5b6177e4051"
  },
  {
   "metadata": {
    "ExecuteTime": {
     "end_time": "2025-09-21T01:20:23.152364Z",
     "start_time": "2025-09-21T01:20:23.149357Z"
    }
   },
   "cell_type": "code",
   "source": "spin = 0.5",
   "id": "7be408f42c8c259f",
   "outputs": [],
   "execution_count": 78
  },
  {
   "metadata": {},
   "cell_type": "markdown",
   "source": "$|\\downarrow>$",
   "id": "c7ff2ac3277e7fbb"
  },
  {
   "metadata": {
    "ExecuteTime": {
     "end_time": "2025-09-21T01:20:23.203584Z",
     "start_time": "2025-09-21T01:20:23.198555Z"
    }
   },
   "cell_type": "code",
   "source": [
    "down = qs.down_state(spin=spin)\n",
    "qs.show_matrix(down)"
   ],
   "id": "cb0552c627d67c2c",
   "outputs": [
    {
     "data": {
      "text/plain": [
       "Matrix([\n",
       "[  0],\n",
       "[1.0]])"
      ],
      "text/latex": "$\\displaystyle \\left[\\begin{matrix}0\\\\1.0\\end{matrix}\\right]$"
     },
     "execution_count": 79,
     "metadata": {},
     "output_type": "execute_result"
    }
   ],
   "execution_count": 79
  },
  {
   "metadata": {},
   "cell_type": "markdown",
   "source": "$|\\uparrow>$",
   "id": "d9b321977ae96787"
  },
  {
   "metadata": {
    "ExecuteTime": {
     "end_time": "2025-09-21T01:20:23.253468Z",
     "start_time": "2025-09-21T01:20:23.248890Z"
    }
   },
   "cell_type": "code",
   "source": [
    "up = qs.up_state(spin=spin)\n",
    "qs.show_matrix(up)"
   ],
   "id": "4fc0304341bb8851",
   "outputs": [
    {
     "data": {
      "text/plain": [
       "Matrix([\n",
       "[1.0],\n",
       "[  0]])"
      ],
      "text/latex": "$\\displaystyle \\left[\\begin{matrix}1.0\\\\0\\end{matrix}\\right]$"
     },
     "execution_count": 80,
     "metadata": {},
     "output_type": "execute_result"
    }
   ],
   "execution_count": 80
  },
  {
   "metadata": {},
   "cell_type": "markdown",
   "source": [
    "Raising operator\n",
    "$S_{+}$"
   ],
   "id": "e250ff2b4004ef58"
  },
  {
   "metadata": {
    "ExecuteTime": {
     "end_time": "2025-09-21T01:20:23.304233Z",
     "start_time": "2025-09-21T01:20:23.299198Z"
    }
   },
   "cell_type": "code",
   "source": [
    "Sp = qs.S_p(spin=spin)\n",
    "qs.show_matrix(Sp)"
   ],
   "id": "79be6e2e328b9a73",
   "outputs": [
    {
     "data": {
      "text/plain": [
       "Matrix([\n",
       "[0, 1.0],\n",
       "[0,   0]])"
      ],
      "text/latex": "$\\displaystyle \\left[\\begin{matrix}0 & 1.0\\\\0 & 0\\end{matrix}\\right]$"
     },
     "execution_count": 81,
     "metadata": {},
     "output_type": "execute_result"
    }
   ],
   "execution_count": 81
  },
  {
   "metadata": {},
   "cell_type": "markdown",
   "source": "Lowering operator $S_{-}$",
   "id": "6ccdba70ea133328"
  },
  {
   "metadata": {
    "ExecuteTime": {
     "end_time": "2025-09-21T01:20:23.355717Z",
     "start_time": "2025-09-21T01:20:23.350905Z"
    }
   },
   "cell_type": "code",
   "source": [
    "Sm = qs.S_m(spin=spin)\n",
    "qs.show_matrix(Sm)"
   ],
   "id": "5e1b43a38d7654fe",
   "outputs": [
    {
     "data": {
      "text/plain": [
       "Matrix([\n",
       "[  0, 0],\n",
       "[1.0, 0]])"
      ],
      "text/latex": "$\\displaystyle \\left[\\begin{matrix}0 & 0\\\\1.0 & 0\\end{matrix}\\right]$"
     },
     "execution_count": 82,
     "metadata": {},
     "output_type": "execute_result"
    }
   ],
   "execution_count": 82
  },
  {
   "metadata": {},
   "cell_type": "markdown",
   "source": "$S_{+}|\\downarrow> = |\\uparrow>$",
   "id": "5817b718bebc58bb"
  },
  {
   "metadata": {
    "ExecuteTime": {
     "end_time": "2025-09-21T01:20:23.405799Z",
     "start_time": "2025-09-21T01:20:23.399387Z"
    }
   },
   "cell_type": "code",
   "source": "qs.show_matrix(Sp @ down)",
   "id": "32cfd3eb26a21bd0",
   "outputs": [
    {
     "data": {
      "text/plain": [
       "Matrix([\n",
       "[1.0],\n",
       "[  0]])"
      ],
      "text/latex": "$\\displaystyle \\left[\\begin{matrix}1.0\\\\0\\end{matrix}\\right]$"
     },
     "execution_count": 83,
     "metadata": {},
     "output_type": "execute_result"
    }
   ],
   "execution_count": 83
  },
  {
   "metadata": {},
   "cell_type": "markdown",
   "source": "$S_{-}|\\uparrow> = |\\downarrow>$",
   "id": "49a9b56cba0e2"
  },
  {
   "metadata": {
    "ExecuteTime": {
     "end_time": "2025-09-21T01:20:23.456219Z",
     "start_time": "2025-09-21T01:20:23.451607Z"
    }
   },
   "cell_type": "code",
   "source": "qs.show_matrix(Sm @ up)",
   "id": "f462e520ca8e13de",
   "outputs": [
    {
     "data": {
      "text/plain": [
       "Matrix([\n",
       "[  0],\n",
       "[1.0]])"
      ],
      "text/latex": "$\\displaystyle \\left[\\begin{matrix}0\\\\1.0\\end{matrix}\\right]$"
     },
     "execution_count": 84,
     "metadata": {},
     "output_type": "execute_result"
    }
   ],
   "execution_count": 84
  },
  {
   "metadata": {},
   "cell_type": "markdown",
   "source": "$S_{-}|\\downarrow> = 0$",
   "id": "236ba7ee139256d7"
  },
  {
   "metadata": {
    "ExecuteTime": {
     "end_time": "2025-09-21T01:20:23.508100Z",
     "start_time": "2025-09-21T01:20:23.503577Z"
    }
   },
   "cell_type": "code",
   "source": "qs.show_matrix(Sm @ down)",
   "id": "7246616fa65fc9a5",
   "outputs": [
    {
     "data": {
      "text/plain": [
       "Matrix([\n",
       "[0],\n",
       "[0]])"
      ],
      "text/latex": "$\\displaystyle \\left[\\begin{matrix}0\\\\0\\end{matrix}\\right]$"
     },
     "execution_count": 85,
     "metadata": {},
     "output_type": "execute_result"
    }
   ],
   "execution_count": 85
  },
  {
   "metadata": {},
   "cell_type": "markdown",
   "source": "$S_{+}|\\uparrow> = 0$",
   "id": "e5a3d3556a17c99f"
  },
  {
   "metadata": {
    "ExecuteTime": {
     "end_time": "2025-09-21T01:20:23.557242Z",
     "start_time": "2025-09-21T01:20:23.551443Z"
    }
   },
   "cell_type": "code",
   "source": "qs.show_matrix(Sm @ up)",
   "id": "370f5be64ad9651a",
   "outputs": [
    {
     "data": {
      "text/plain": [
       "Matrix([\n",
       "[  0],\n",
       "[1.0]])"
      ],
      "text/latex": "$\\displaystyle \\left[\\begin{matrix}0\\\\1.0\\end{matrix}\\right]$"
     },
     "execution_count": 86,
     "metadata": {},
     "output_type": "execute_result"
    }
   ],
   "execution_count": 86
  },
  {
   "metadata": {},
   "cell_type": "markdown",
   "source": [
    "Anti-commutation relation\n",
    "$ \\{S_{+}, S_{-}\\} = I$"
   ],
   "id": "9a9c43aa5348c881"
  },
  {
   "metadata": {
    "ExecuteTime": {
     "end_time": "2025-09-21T01:20:23.608300Z",
     "start_time": "2025-09-21T01:20:23.603903Z"
    }
   },
   "cell_type": "code",
   "source": "qs.show_matrix(qs.anti_commutator(Sp, Sm))",
   "id": "1d22cac7e858efb5",
   "outputs": [
    {
     "data": {
      "text/plain": [
       "Matrix([\n",
       "[1.0,   0],\n",
       "[  0, 1.0]])"
      ],
      "text/latex": "$\\displaystyle \\left[\\begin{matrix}1.0 & 0\\\\0 & 1.0\\end{matrix}\\right]$"
     },
     "execution_count": 87,
     "metadata": {},
     "output_type": "execute_result"
    }
   ],
   "execution_count": 87
  },
  {
   "metadata": {},
   "cell_type": "markdown",
   "source": "# Second quantization",
   "id": "89f9704aa0f67150"
  },
  {
   "metadata": {},
   "cell_type": "markdown",
   "source": "### hard-core boson map",
   "id": "513b6bb824d13359"
  },
  {
   "metadata": {},
   "cell_type": "markdown",
   "source": "$ b^{\\dagger} \\equiv S_{-}$",
   "id": "3930d84caa811658"
  },
  {
   "metadata": {
    "ExecuteTime": {
     "end_time": "2025-09-21T01:20:23.656772Z",
     "start_time": "2025-09-21T01:20:23.651142Z"
    }
   },
   "cell_type": "code",
   "source": [
    "bp = qs.b_dag(n_state=2, convention=\"down=1\")\n",
    "qs.show_matrix(bp)"
   ],
   "id": "f41a68351eef7571",
   "outputs": [
    {
     "data": {
      "text/plain": [
       "Matrix([\n",
       "[  0, 0],\n",
       "[1.0, 0]])"
      ],
      "text/latex": "$\\displaystyle \\left[\\begin{matrix}0 & 0\\\\1.0 & 0\\end{matrix}\\right]$"
     },
     "execution_count": 88,
     "metadata": {},
     "output_type": "execute_result"
    }
   ],
   "execution_count": 88
  },
  {
   "metadata": {},
   "cell_type": "markdown",
   "source": "$ b \\equiv S_{+}$",
   "id": "6cc60086e261feca"
  },
  {
   "metadata": {
    "ExecuteTime": {
     "end_time": "2025-09-21T01:20:23.704942Z",
     "start_time": "2025-09-21T01:20:23.699836Z"
    }
   },
   "cell_type": "code",
   "source": [
    "bm = qs.b_(n_state=2, convention=\"down=1\")\n",
    "qs.show_matrix(bm)"
   ],
   "id": "81970331370504d9",
   "outputs": [
    {
     "data": {
      "text/plain": [
       "Matrix([\n",
       "[0, 1.0],\n",
       "[0,   0]])"
      ],
      "text/latex": "$\\displaystyle \\left[\\begin{matrix}0 & 1.0\\\\0 & 0\\end{matrix}\\right]$"
     },
     "execution_count": 89,
     "metadata": {},
     "output_type": "execute_result"
    }
   ],
   "execution_count": 89
  },
  {
   "metadata": {},
   "cell_type": "markdown",
   "source": "Anti-commutation relation $\\{b, b^{\\dagger}\\} = I$",
   "id": "ee18b73d536368fd"
  },
  {
   "metadata": {
    "ExecuteTime": {
     "end_time": "2025-09-21T01:20:23.752090Z",
     "start_time": "2025-09-21T01:20:23.747705Z"
    }
   },
   "cell_type": "code",
   "source": "qs.show_matrix(qs.anti_commutator(bp, bm))",
   "id": "261e045092d52d5b",
   "outputs": [
    {
     "data": {
      "text/plain": [
       "Matrix([\n",
       "[1.0,   0],\n",
       "[  0, 1.0]])"
      ],
      "text/latex": "$\\displaystyle \\left[\\begin{matrix}1.0 & 0\\\\0 & 1.0\\end{matrix}\\right]$"
     },
     "execution_count": 90,
     "metadata": {},
     "output_type": "execute_result"
    }
   ],
   "execution_count": 90
  },
  {
   "metadata": {},
   "cell_type": "markdown",
   "source": "Global operator on lattice site $j$",
   "id": "e58b971f0ffa84f9"
  },
  {
   "metadata": {},
   "cell_type": "markdown",
   "source": [
    "$b^{\\dagger}_j$\n",
    "\n",
    "example:\n",
    "\n",
    "$j=0$, lattice length = 2"
   ],
   "id": "e896e4a235cc3d43"
  },
  {
   "metadata": {
    "ExecuteTime": {
     "end_time": "2025-09-21T01:20:23.804241Z",
     "start_time": "2025-09-21T01:20:23.799323Z"
    }
   },
   "cell_type": "code",
   "source": [
    "bp_0 = qs.to_global_operator(j=0, lattice_length=2, local_operator=bp)\n",
    "qs.show_matrix(bp_0)"
   ],
   "id": "325507bc2dfc61bd",
   "outputs": [
    {
     "data": {
      "text/plain": [
       "Matrix([\n",
       "[  0,   0, 0, 0],\n",
       "[  0,   0, 0, 0],\n",
       "[1.0,   0, 0, 0],\n",
       "[  0, 1.0, 0, 0]])"
      ],
      "text/latex": "$\\displaystyle \\left[\\begin{matrix}0 & 0 & 0 & 0\\\\0 & 0 & 0 & 0\\\\1.0 & 0 & 0 & 0\\\\0 & 1.0 & 0 & 0\\end{matrix}\\right]$"
     },
     "execution_count": 91,
     "metadata": {},
     "output_type": "execute_result"
    }
   ],
   "execution_count": 91
  },
  {
   "metadata": {},
   "cell_type": "markdown",
   "source": [
    "$b_j$\n",
    "\n",
    "example:\n",
    "\n",
    "$j=0$, lattice length = 2\n",
    "\n"
   ],
   "id": "b73a369388a52919"
  },
  {
   "metadata": {
    "ExecuteTime": {
     "end_time": "2025-09-21T01:20:23.852746Z",
     "start_time": "2025-09-21T01:20:23.847609Z"
    }
   },
   "cell_type": "code",
   "source": [
    "bm_0 = qs.to_global_operator(j=0, lattice_length=2, local_operator=bm)\n",
    "qs.show_matrix(bm_0)"
   ],
   "id": "edb6847d7646311a",
   "outputs": [
    {
     "data": {
      "text/plain": [
       "Matrix([\n",
       "[0, 0, 1.0,   0],\n",
       "[0, 0,   0, 1.0],\n",
       "[0, 0,   0,   0],\n",
       "[0, 0,   0,   0]])"
      ],
      "text/latex": "$\\displaystyle \\left[\\begin{matrix}0 & 0 & 1.0 & 0\\\\0 & 0 & 0 & 1.0\\\\0 & 0 & 0 & 0\\\\0 & 0 & 0 & 0\\end{matrix}\\right]$"
     },
     "execution_count": 92,
     "metadata": {},
     "output_type": "execute_result"
    }
   ],
   "execution_count": 92
  },
  {
   "metadata": {},
   "cell_type": "markdown",
   "source": "$\\{b_j, b^{\\dagger}_j\\} = I$",
   "id": "66ad1c6d9b9db25f"
  },
  {
   "metadata": {
    "ExecuteTime": {
     "end_time": "2025-09-21T01:20:23.900249Z",
     "start_time": "2025-09-21T01:20:23.895577Z"
    }
   },
   "cell_type": "code",
   "source": "qs.show_matrix(qs.anti_commutator(bm_0, bp_0))",
   "id": "5e42dd63c678edf0",
   "outputs": [
    {
     "data": {
      "text/plain": [
       "Matrix([\n",
       "[1.0,   0,   0,   0],\n",
       "[  0, 1.0,   0,   0],\n",
       "[  0,   0, 1.0,   0],\n",
       "[  0,   0,   0, 1.0]])"
      ],
      "text/latex": "$\\displaystyle \\left[\\begin{matrix}1.0 & 0 & 0 & 0\\\\0 & 1.0 & 0 & 0\\\\0 & 0 & 1.0 & 0\\\\0 & 0 & 0 & 1.0\\end{matrix}\\right]$"
     },
     "execution_count": 93,
     "metadata": {},
     "output_type": "execute_result"
    }
   ],
   "execution_count": 93
  },
  {
   "metadata": {},
   "cell_type": "markdown",
   "source": [
    "$b^{\\dagger}_j$\n",
    "\n",
    "example:\n",
    "\n",
    "$j=1$, lattice length = 2"
   ],
   "id": "b748c581773df290"
  },
  {
   "metadata": {
    "ExecuteTime": {
     "end_time": "2025-09-21T01:20:23.952394Z",
     "start_time": "2025-09-21T01:20:23.947146Z"
    }
   },
   "cell_type": "code",
   "source": [
    "bp_1 = qs.to_global_operator(j=1, lattice_length=2, local_operator=bp)\n",
    "qs.show_matrix(bp_1)"
   ],
   "id": "74af154871287a94",
   "outputs": [
    {
     "data": {
      "text/plain": [
       "Matrix([\n",
       "[  0, 0,   0, 0],\n",
       "[1.0, 0,   0, 0],\n",
       "[  0, 0,   0, 0],\n",
       "[  0, 0, 1.0, 0]])"
      ],
      "text/latex": "$\\displaystyle \\left[\\begin{matrix}0 & 0 & 0 & 0\\\\1.0 & 0 & 0 & 0\\\\0 & 0 & 0 & 0\\\\0 & 0 & 1.0 & 0\\end{matrix}\\right]$"
     },
     "execution_count": 94,
     "metadata": {},
     "output_type": "execute_result"
    }
   ],
   "execution_count": 94
  },
  {
   "metadata": {},
   "cell_type": "markdown",
   "source": [
    "$b_j$\n",
    "\n",
    "example:\n",
    "\n",
    "$j=1$, lattice length = 2\n"
   ],
   "id": "5cada5ec473653af"
  },
  {
   "metadata": {
    "ExecuteTime": {
     "end_time": "2025-09-21T01:20:24.004286Z",
     "start_time": "2025-09-21T01:20:23.999141Z"
    }
   },
   "cell_type": "code",
   "source": [
    "bm_1 = qs.to_global_operator(j=1, lattice_length=2, local_operator=bm)\n",
    "qs.show_matrix(bm_1)"
   ],
   "id": "ef049739cf735625",
   "outputs": [
    {
     "data": {
      "text/plain": [
       "Matrix([\n",
       "[0, 1.0, 0,   0],\n",
       "[0,   0, 0,   0],\n",
       "[0,   0, 0, 1.0],\n",
       "[0,   0, 0,   0]])"
      ],
      "text/latex": "$\\displaystyle \\left[\\begin{matrix}0 & 1.0 & 0 & 0\\\\0 & 0 & 0 & 0\\\\0 & 0 & 0 & 1.0\\\\0 & 0 & 0 & 0\\end{matrix}\\right]$"
     },
     "execution_count": 95,
     "metadata": {},
     "output_type": "execute_result"
    }
   ],
   "execution_count": 95
  },
  {
   "metadata": {},
   "cell_type": "markdown",
   "source": [
    "$[b^{\\dagger}_j, b^{\\dagger}_{j'}] = 0$\n",
    "\n",
    "for $j \\neq j'$"
   ],
   "id": "bc8062c9b56217e3"
  },
  {
   "metadata": {
    "ExecuteTime": {
     "end_time": "2025-09-21T01:20:24.056239Z",
     "start_time": "2025-09-21T01:20:24.051738Z"
    }
   },
   "cell_type": "code",
   "source": "qs.show_matrix(qs.commutator(bp_1, bp_0))",
   "id": "3fab5ba8b9d09fa8",
   "outputs": [
    {
     "data": {
      "text/plain": [
       "Matrix([\n",
       "[0, 0, 0, 0],\n",
       "[0, 0, 0, 0],\n",
       "[0, 0, 0, 0],\n",
       "[0, 0, 0, 0]])"
      ],
      "text/latex": "$\\displaystyle \\left[\\begin{matrix}0 & 0 & 0 & 0\\\\0 & 0 & 0 & 0\\\\0 & 0 & 0 & 0\\\\0 & 0 & 0 & 0\\end{matrix}\\right]$"
     },
     "execution_count": 96,
     "metadata": {},
     "output_type": "execute_result"
    }
   ],
   "execution_count": 96
  },
  {
   "metadata": {},
   "cell_type": "markdown",
   "source": "$\\{b^{\\dagger}_j, b^{\\dagger}_{j}\\} = 0$\n",
   "id": "eabe302d71f7515b"
  },
  {
   "metadata": {
    "ExecuteTime": {
     "end_time": "2025-09-21T01:20:24.104839Z",
     "start_time": "2025-09-21T01:20:24.100237Z"
    }
   },
   "cell_type": "code",
   "source": "qs.show_matrix(qs.anti_commutator(bp_0, bp_0))",
   "id": "18948078c9eec30",
   "outputs": [
    {
     "data": {
      "text/plain": [
       "Matrix([\n",
       "[0, 0, 0, 0],\n",
       "[0, 0, 0, 0],\n",
       "[0, 0, 0, 0],\n",
       "[0, 0, 0, 0]])"
      ],
      "text/latex": "$\\displaystyle \\left[\\begin{matrix}0 & 0 & 0 & 0\\\\0 & 0 & 0 & 0\\\\0 & 0 & 0 & 0\\\\0 & 0 & 0 & 0\\end{matrix}\\right]$"
     },
     "execution_count": 97,
     "metadata": {},
     "output_type": "execute_result"
    }
   ],
   "execution_count": 97
  },
  {
   "metadata": {},
   "cell_type": "markdown",
   "source": [
    "$\\{b_j, b^{\\dagger}_{j}\\} = I$  $\\qquad$      $[b_j, b^{\\dagger}_{j'}] = 0$\n",
    "\n",
    "$\\{b_j, b_{j}\\} = 0$  $\\qquad$                $[b_j, b_{j'}] = 0$ $\\qquad$ for $j \\neq j'$\n",
    "\n",
    "$\\{b^{\\dagger}_j, b^{\\dagger}_{j}\\} = 0$ $\\qquad$  $[b^{\\dagger}_j, b^{\\dagger}_{j'}] = 0$\n"
   ],
   "id": "3cd48e6f97b7dcff"
  },
  {
   "metadata": {},
   "cell_type": "markdown",
   "source": [
    "### Build spin states\n",
    "\n",
    "$|\\uparrow \\uparrow>$\n",
    "\n"
   ],
   "id": "4fb4776d0935639d"
  },
  {
   "metadata": {
    "ExecuteTime": {
     "end_time": "2025-09-21T01:20:24.156105Z",
     "start_time": "2025-09-21T01:20:24.150582Z"
    }
   },
   "cell_type": "code",
   "source": [
    "spin_state_2up = qs.global_spin_one_half_state(\"u\"*2)\n",
    "qs.show_matrix(spin_state_2up)"
   ],
   "id": "42821a36d3f4d247",
   "outputs": [
    {
     "data": {
      "text/plain": [
       "Matrix([\n",
       "[1.0],\n",
       "[  0],\n",
       "[  0],\n",
       "[  0]])"
      ],
      "text/latex": "$\\displaystyle \\left[\\begin{matrix}1.0\\\\0\\\\0\\\\0\\end{matrix}\\right]$"
     },
     "execution_count": 98,
     "metadata": {},
     "output_type": "execute_result"
    }
   ],
   "execution_count": 98
  },
  {
   "metadata": {},
   "cell_type": "markdown",
   "source": "$ |\\uparrow \\uparrow \\uparrow \\uparrow>$\n",
   "id": "c012ec9fb52a72e7"
  },
  {
   "metadata": {
    "ExecuteTime": {
     "end_time": "2025-09-21T01:20:24.204399Z",
     "start_time": "2025-09-21T01:20:24.198738Z"
    }
   },
   "cell_type": "code",
   "source": [
    "spin_state_4up = qs.global_spin_one_half_state(\"u\"*4)\n",
    "qs.show_matrix(spin_state_4up)"
   ],
   "id": "90fb2339e5f278da",
   "outputs": [
    {
     "data": {
      "text/plain": [
       "Matrix([\n",
       "[1.0],\n",
       "[  0],\n",
       "[  0],\n",
       "[  0],\n",
       "[  0],\n",
       "[  0],\n",
       "[  0],\n",
       "[  0],\n",
       "[  0],\n",
       "[  0],\n",
       "[  0],\n",
       "[  0],\n",
       "[  0],\n",
       "[  0],\n",
       "[  0],\n",
       "[  0]])"
      ],
      "text/latex": "$\\displaystyle \\left[\\begin{matrix}1.0\\\\0\\\\0\\\\0\\\\0\\\\0\\\\0\\\\0\\\\0\\\\0\\\\0\\\\0\\\\0\\\\0\\\\0\\\\0\\end{matrix}\\right]$"
     },
     "execution_count": 99,
     "metadata": {},
     "output_type": "execute_result"
    }
   ],
   "execution_count": 99
  },
  {
   "metadata": {},
   "cell_type": "markdown",
   "source": "$|\\downarrow \\downarrow \\downarrow \\downarrow>$",
   "id": "d0e4872b03099d25"
  },
  {
   "metadata": {
    "ExecuteTime": {
     "end_time": "2025-09-21T01:20:24.252300Z",
     "start_time": "2025-09-21T01:20:24.246534Z"
    }
   },
   "cell_type": "code",
   "source": [
    "spin_state_4down = qs.global_spin_one_half_state(\"d\"*4)\n",
    "qs.show_matrix(spin_state_4down)"
   ],
   "id": "bb9fb8d38250c911",
   "outputs": [
    {
     "data": {
      "text/plain": [
       "Matrix([\n",
       "[  0],\n",
       "[  0],\n",
       "[  0],\n",
       "[  0],\n",
       "[  0],\n",
       "[  0],\n",
       "[  0],\n",
       "[  0],\n",
       "[  0],\n",
       "[  0],\n",
       "[  0],\n",
       "[  0],\n",
       "[  0],\n",
       "[  0],\n",
       "[  0],\n",
       "[1.0]])"
      ],
      "text/latex": "$\\displaystyle \\left[\\begin{matrix}0\\\\0\\\\0\\\\0\\\\0\\\\0\\\\0\\\\0\\\\0\\\\0\\\\0\\\\0\\\\0\\\\0\\\\0\\\\1.0\\end{matrix}\\right]$"
     },
     "execution_count": 100,
     "metadata": {},
     "output_type": "execute_result"
    }
   ],
   "execution_count": 100
  },
  {
   "metadata": {},
   "cell_type": "markdown",
   "source": "$|\\uparrow \\downarrow \\uparrow \\downarrow>$",
   "id": "7dd1b89d0bcf3bce"
  },
  {
   "metadata": {
    "ExecuteTime": {
     "end_time": "2025-09-21T01:20:24.299792Z",
     "start_time": "2025-09-21T01:20:24.294611Z"
    }
   },
   "cell_type": "code",
   "source": [
    "spin_state_stagger = qs.global_spin_one_half_state(\"udud\")\n",
    "qs.show_matrix(spin_state_stagger)"
   ],
   "id": "7235264ddf9f94e4",
   "outputs": [
    {
     "data": {
      "text/plain": [
       "Matrix([\n",
       "[  0],\n",
       "[  0],\n",
       "[  0],\n",
       "[  0],\n",
       "[  0],\n",
       "[1.0],\n",
       "[  0],\n",
       "[  0],\n",
       "[  0],\n",
       "[  0],\n",
       "[  0],\n",
       "[  0],\n",
       "[  0],\n",
       "[  0],\n",
       "[  0],\n",
       "[  0]])"
      ],
      "text/latex": "$\\displaystyle \\left[\\begin{matrix}0\\\\0\\\\0\\\\0\\\\0\\\\1.0\\\\0\\\\0\\\\0\\\\0\\\\0\\\\0\\\\0\\\\0\\\\0\\\\0\\end{matrix}\\right]$"
     },
     "execution_count": 101,
     "metadata": {},
     "output_type": "execute_result"
    }
   ],
   "execution_count": 101
  },
  {
   "metadata": {
    "ExecuteTime": {
     "end_time": "2025-09-21T01:20:24.347857Z",
     "start_time": "2025-09-21T01:20:24.342941Z"
    }
   },
   "cell_type": "code",
   "source": [
    "neel_state = qs.neel_state(lattice_length=4, convention=\"even_up\")\n",
    "qs.show_matrix(neel_state)"
   ],
   "id": "cf16e83434919d60",
   "outputs": [
    {
     "data": {
      "text/plain": [
       "Matrix([\n",
       "[  0],\n",
       "[  0],\n",
       "[  0],\n",
       "[  0],\n",
       "[  0],\n",
       "[1.0],\n",
       "[  0],\n",
       "[  0],\n",
       "[  0],\n",
       "[  0],\n",
       "[  0],\n",
       "[  0],\n",
       "[  0],\n",
       "[  0],\n",
       "[  0],\n",
       "[  0]])"
      ],
      "text/latex": "$\\displaystyle \\left[\\begin{matrix}0\\\\0\\\\0\\\\0\\\\0\\\\1.0\\\\0\\\\0\\\\0\\\\0\\\\0\\\\0\\\\0\\\\0\\\\0\\\\0\\end{matrix}\\right]$"
     },
     "execution_count": 102,
     "metadata": {},
     "output_type": "execute_result"
    }
   ],
   "execution_count": 102
  },
  {
   "metadata": {},
   "cell_type": "markdown",
   "source": "$|\\rightarrow> = \\frac{1}{\\sqrt{2}} (|\\uparrow> + |\\downarrow>)$",
   "id": "c6ee9aa5b9427ea7"
  },
  {
   "metadata": {
    "ExecuteTime": {
     "end_time": "2025-09-21T01:20:24.396104Z",
     "start_time": "2025-09-21T01:20:24.391220Z"
    }
   },
   "cell_type": "code",
   "source": [
    "superposition_state_right = qs.spin_one_half_state(\">\")\n",
    "qs.show_matrix(superposition_state_right)"
   ],
   "id": "750b4746b281cd3b",
   "outputs": [
    {
     "data": {
      "text/plain": [
       "Matrix([\n",
       "[0.709999978542328],\n",
       "[0.709999978542328]])"
      ],
      "text/latex": "$\\displaystyle \\left[\\begin{matrix}0.709999978542328\\\\0.709999978542328\\end{matrix}\\right]$"
     },
     "execution_count": 103,
     "metadata": {},
     "output_type": "execute_result"
    }
   ],
   "execution_count": 103
  },
  {
   "metadata": {},
   "cell_type": "markdown",
   "source": "$|\\leftarrow> = \\frac{1}{\\sqrt{2}} (|\\uparrow> - |\\downarrow>)$",
   "id": "9478db0a14fdf2cd"
  },
  {
   "metadata": {
    "ExecuteTime": {
     "end_time": "2025-09-21T01:20:24.443907Z",
     "start_time": "2025-09-21T01:20:24.439014Z"
    }
   },
   "cell_type": "code",
   "source": [
    "superposition_state_left = qs.spin_one_half_state(\"<\")\n",
    "qs.show_matrix(superposition_state_left)"
   ],
   "id": "21a343e8a55621df",
   "outputs": [
    {
     "data": {
      "text/plain": [
       "Matrix([\n",
       "[ 0.709999978542328],\n",
       "[-0.709999978542328]])"
      ],
      "text/latex": "$\\displaystyle \\left[\\begin{matrix}0.709999978542328\\\\-0.709999978542328\\end{matrix}\\right]$"
     },
     "execution_count": 104,
     "metadata": {},
     "output_type": "execute_result"
    }
   ],
   "execution_count": 104
  },
  {
   "metadata": {},
   "cell_type": "markdown",
   "source": "$|\\uparrow \\rightarrow \\downarrow \\leftarrow>$",
   "id": "debbeaf28d0e250b"
  },
  {
   "metadata": {
    "ExecuteTime": {
     "end_time": "2025-09-21T01:20:24.492428Z",
     "start_time": "2025-09-21T01:20:24.487047Z"
    }
   },
   "cell_type": "code",
   "source": [
    "general_spin_state = qs.global_spin_one_half_state(\"u>d<\")\n",
    "qs.show_matrix(general_spin_state)"
   ],
   "id": "47833aa689f13827",
   "outputs": [
    {
     "data": {
      "text/plain": [
       "Matrix([\n",
       "[   0],\n",
       "[   0],\n",
       "[ 0.5],\n",
       "[-0.5],\n",
       "[   0],\n",
       "[   0],\n",
       "[ 0.5],\n",
       "[-0.5],\n",
       "[   0],\n",
       "[   0],\n",
       "[   0],\n",
       "[   0],\n",
       "[   0],\n",
       "[   0],\n",
       "[   0],\n",
       "[   0]])"
      ],
      "text/latex": "$\\displaystyle \\left[\\begin{matrix}0\\\\0\\\\0.5\\\\-0.5\\\\0\\\\0\\\\0.5\\\\-0.5\\\\0\\\\0\\\\0\\\\0\\\\0\\\\0\\\\0\\\\0\\end{matrix}\\right]$"
     },
     "execution_count": 105,
     "metadata": {},
     "output_type": "execute_result"
    }
   ],
   "execution_count": 105
  },
  {
   "metadata": {},
   "cell_type": "markdown",
   "source": "### Fock state",
   "id": "cb5f6bd2a6c89495"
  },
  {
   "metadata": {},
   "cell_type": "markdown",
   "source": "vacuum state $|0000>$",
   "id": "3146cce66311e9bb"
  },
  {
   "metadata": {
    "ExecuteTime": {
     "end_time": "2025-09-21T01:20:24.537951Z",
     "start_time": "2025-09-21T01:20:24.534516Z"
    }
   },
   "cell_type": "code",
   "source": [
    "vacuum_state = qs.fock_state(\"0\"*4, convention=\"down=1\")\n",
    "qs.view_fock_state(vacuum_state, convention=\"down=1\")"
   ],
   "id": "ea48e9e6505c6214",
   "outputs": [
    {
     "name": "stdout",
     "output_type": "stream",
     "text": [
      "(1.0000)|0000⟩\n"
     ]
    }
   ],
   "execution_count": 106
  },
  {
   "metadata": {},
   "cell_type": "markdown",
   "source": "one particle state $|1000>$",
   "id": "9a3c1002be93ce57"
  },
  {
   "metadata": {
    "ExecuteTime": {
     "end_time": "2025-09-21T01:20:24.586382Z",
     "start_time": "2025-09-21T01:20:24.582921Z"
    }
   },
   "cell_type": "code",
   "source": [
    "one_particle_state = qs.fock_state(\"1000\", convention=\"down=1\")\n",
    "qs.view_fock_state(one_particle_state, convention=\"down=1\")"
   ],
   "id": "f37d5b5a5232692a",
   "outputs": [
    {
     "name": "stdout",
     "output_type": "stream",
     "text": [
      "(1.0000)|1000⟩\n"
     ]
    }
   ],
   "execution_count": 107
  },
  {
   "metadata": {},
   "cell_type": "markdown",
   "source": "### Creation and annihilation for hard-core bosons",
   "id": "a4544983b704d223"
  },
  {
   "metadata": {},
   "cell_type": "markdown",
   "source": [
    "Creation operator $b^{\\dagger}_j$ apply on vacuum state $|0000>$\n",
    "\n",
    "for $j=0$, lattice length = 4"
   ],
   "id": "9b346269c9275646"
  },
  {
   "metadata": {
    "ExecuteTime": {
     "end_time": "2025-09-21T01:20:24.634157Z",
     "start_time": "2025-09-21T01:20:24.630718Z"
    }
   },
   "cell_type": "code",
   "source": "qs.view_fock_state(vacuum_state)",
   "id": "b839dd807804266b",
   "outputs": [
    {
     "name": "stdout",
     "output_type": "stream",
     "text": [
      "(1.0000)|0000⟩\n"
     ]
    }
   ],
   "execution_count": 108
  },
  {
   "metadata": {
    "ExecuteTime": {
     "end_time": "2025-09-21T01:20:24.695308Z",
     "start_time": "2025-09-21T01:20:24.692237Z"
    }
   },
   "cell_type": "code",
   "source": [
    "bp_0 = qs.to_global_operator(j=0, lattice_length=4, local_operator=bp)\n",
    "create_one_particle_0 = bp_0 @ vacuum_state\n",
    "qs.view_fock_state(create_one_particle_0)"
   ],
   "id": "dbac4a3d3f253467",
   "outputs": [
    {
     "name": "stdout",
     "output_type": "stream",
     "text": [
      "(1.0000)|1000⟩\n"
     ]
    }
   ],
   "execution_count": 109
  },
  {
   "metadata": {},
   "cell_type": "markdown",
   "source": [
    "Move particle to site $j=1$\n",
    "\n",
    "$b^{\\dagger}_1 b_0|1000> = |0100>$"
   ],
   "id": "3d9110820aad2b45"
  },
  {
   "metadata": {
    "ExecuteTime": {
     "end_time": "2025-09-21T01:20:24.742847Z",
     "start_time": "2025-09-21T01:20:24.738926Z"
    }
   },
   "cell_type": "code",
   "source": [
    "bm_0 = qs.to_global_operator(j=0, lattice_length=4, local_operator=bm)\n",
    "bp_1 = qs.to_global_operator(j=1, lattice_length=4, local_operator=bp)\n",
    "move_to_next_site = bp_1 @ bm_0 @ create_one_particle_0\n",
    "qs.view_fock_state(move_to_next_site)"
   ],
   "id": "b9aa23b342e7ca79",
   "outputs": [
    {
     "name": "stdout",
     "output_type": "stream",
     "text": [
      "(1.0000)|0100⟩\n"
     ]
    }
   ],
   "execution_count": 110
  },
  {
   "metadata": {},
   "cell_type": "markdown",
   "source": [
    "Number operator $\\hat{n}_j = b^{\\dagger}_j b_j$\n",
    "\n",
    "and total number operator $\\hat{N} = \\sum_j \\hat{n}_j$"
   ],
   "id": "d6e18431c6e6db19"
  },
  {
   "metadata": {
    "ExecuteTime": {
     "end_time": "2025-09-21T01:20:24.792492Z",
     "start_time": "2025-09-21T01:20:24.786773Z"
    }
   },
   "cell_type": "code",
   "source": [
    "total_number_op = qs.total_number_operator(lattice_length=4)\n",
    "number_of_particle = qs.bra_o_ket(bra=qs.dagger(move_to_next_site), o=total_number_op, ket=move_to_next_site).item()\n",
    "print(f\"Number of particle = {number_of_particle}\")"
   ],
   "id": "bc6a801f00f6dbdf",
   "outputs": [
    {
     "name": "stdout",
     "output_type": "stream",
     "text": [
      "Number of particle = 1.0\n"
     ]
    }
   ],
   "execution_count": 111
  },
  {
   "metadata": {},
   "cell_type": "markdown",
   "source": [
    "Create one particle at site $j=3$ from state $|0100>$\n",
    "\n",
    "$b^{\\dagger}_3|0100> = |0101>$"
   ],
   "id": "239ec950adb2a97e"
  },
  {
   "metadata": {
    "ExecuteTime": {
     "end_time": "2025-09-21T01:20:24.838468Z",
     "start_time": "2025-09-21T01:20:24.834973Z"
    }
   },
   "cell_type": "code",
   "source": [
    "bp_3 = qs.to_global_operator(j=3, lattice_length=4, local_operator=bp)\n",
    "create_one_particle_3 = bp_3 @ move_to_next_site\n",
    "qs.view_fock_state(create_one_particle_3)"
   ],
   "id": "890f22d10d16ff7c",
   "outputs": [
    {
     "name": "stdout",
     "output_type": "stream",
     "text": [
      "(1.0000)|0101⟩\n"
     ]
    }
   ],
   "execution_count": 112
  },
  {
   "metadata": {
    "ExecuteTime": {
     "end_time": "2025-09-21T01:20:24.887624Z",
     "start_time": "2025-09-21T01:20:24.883088Z"
    }
   },
   "cell_type": "code",
   "source": [
    "number_of_particle = qs.bra_o_ket(bra=qs.dagger(create_one_particle_3), o=total_number_op, ket=create_one_particle_3).item()\n",
    "print(f\"Number of particle = {number_of_particle}\")"
   ],
   "id": "55e720b6252d7855",
   "outputs": [
    {
     "name": "stdout",
     "output_type": "stream",
     "text": [
      "Number of particle = 2.0\n"
     ]
    }
   ],
   "execution_count": 113
  }
 ],
 "metadata": {
  "kernelspec": {
   "display_name": "Python 3",
   "language": "python",
   "name": "python3"
  },
  "language_info": {
   "codemirror_mode": {
    "name": "ipython",
    "version": 2
   },
   "file_extension": ".py",
   "mimetype": "text/x-python",
   "name": "python",
   "nbconvert_exporter": "python",
   "pygments_lexer": "ipython2",
   "version": "2.7.6"
  }
 },
 "nbformat": 4,
 "nbformat_minor": 5
}
