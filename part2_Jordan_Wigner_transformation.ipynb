{
 "cells": [
  {
   "cell_type": "code",
   "id": "initial_id",
   "metadata": {
    "collapsed": true,
    "ExecuteTime": {
     "end_time": "2025-09-21T01:22:00.889667Z",
     "start_time": "2025-09-21T01:21:59.731026Z"
    }
   },
   "source": [
    "try:\n",
    "    import quantum_simulation as qs\n",
    "except ModuleNotFoundError:\n",
    "    !git clone https://github.com/ToelUl/quantum-simulation.git\n",
    "    !cp -r quantum-simulation/quantum_simulation ./\n",
    "    import quantum_simulation as qs"
   ],
   "outputs": [],
   "execution_count": 1
  },
  {
   "metadata": {},
   "cell_type": "markdown",
   "source": "# Jordan Wigner transformation",
   "id": "300aa6698f22d92c"
  },
  {
   "metadata": {
    "ExecuteTime": {
     "end_time": "2025-09-21T01:22:00.895172Z",
     "start_time": "2025-09-21T01:22:00.892760Z"
    }
   },
   "cell_type": "code",
   "source": "lattice_length = 2",
   "id": "45db7837955c3e04",
   "outputs": [],
   "execution_count": 2
  },
  {
   "metadata": {
    "ExecuteTime": {
     "end_time": "2025-09-21T01:22:01.015646Z",
     "start_time": "2025-09-21T01:22:01.009620Z"
    }
   },
   "cell_type": "code",
   "source": "qs.jordan_wigner_transform_symbolize('--list')",
   "id": "fb6e15a84a8c841b",
   "outputs": [
    {
     "name": "stdout",
     "output_type": "stream",
     "text": [
      "Available keys and their meanings:\n",
      "================================================================================\n",
      "- K_j_prod               : String operator K_j (product form)\n",
      "- K_j_exp                : String operator K_j (exponential form)\n",
      "- sigma_x_j              : Pauli-X operator at site j\n",
      "- sigma_y_j              : Pauli-Y operator at site j\n",
      "- sigma_z_j              : Pauli-Z operator at site j\n",
      "- sigma_x_j_sigma_x_j+1  : Product of adjacent Pauli-X operators\n",
      "- sigma_y_j_sigma_y_j+1  : Product of adjacent Pauli-Y operators\n",
      "- b_j_def                : Definition of the hard-core boson operator b_j\n",
      "- b_dag_j_b_j            : Number operator\n",
      "- b_dag_j_b_dag_j+1      : Creation-creation term at adjacent sites\n",
      "- b_dag_j_b_j+1          : Hopping term\n",
      "- b_j_b_j+1              : Annihilation-annihilation term at adjacent sites\n",
      "- b_j_b_dag_j+1          : Swap term\n",
      "- c_j_def                : Definition of the fermion operator c_j\n",
      "- anti_comm_c_c          : Anti-commutation relation {c_j, c_k}\n",
      "- anti_comm_cdag_cdag    : Anti-commutation relation {c_dag_j, c_dag_k}\n",
      "- anti_comm_c_cdag       : Anti-commutation relation {c_j, c_dag_k}\n",
      "\n"
     ]
    }
   ],
   "execution_count": 3
  },
  {
   "metadata": {},
   "cell_type": "markdown",
   "source": "### Global number operator",
   "id": "bd47edae71390f8e"
  },
  {
   "metadata": {
    "ExecuteTime": {
     "end_time": "2025-09-21T01:22:01.080523Z",
     "start_time": "2025-09-21T01:22:01.070402Z"
    }
   },
   "cell_type": "code",
   "source": "qs.jordan_wigner_transform_symbolize('K_j_exp')",
   "id": "a265937c38e4b479",
   "outputs": [
    {
     "data": {
      "text/plain": [
       "<IPython.core.display.Math object>"
      ],
      "text/latex": "$\\displaystyle \\hat{K}_{j} = \\prod_{j'=1}^{j-1} e^{i\\pi\\hat{n}_{j'}} = e^{i\\pi\\sum_{j'=1}^{j-1}\\hat{n}_{j'}}$"
     },
     "execution_count": 4,
     "metadata": {},
     "output_type": "execute_result"
    }
   ],
   "execution_count": 4
  },
  {
   "metadata": {
    "ExecuteTime": {
     "end_time": "2025-09-21T01:22:01.126784Z",
     "start_time": "2025-09-21T01:22:01.118608Z"
    }
   },
   "cell_type": "code",
   "source": "qs.jordan_wigner_transform_symbolize('K_j_prod')",
   "id": "e69e302f7e9c459a",
   "outputs": [
    {
     "data": {
      "text/plain": [
       "<IPython.core.display.Math object>"
      ],
      "text/latex": "$\\displaystyle K_j=\\prod^{j-1}_{j'=1}(1-2\\hat{n}_{j'})$"
     },
     "execution_count": 5,
     "metadata": {},
     "output_type": "execute_result"
    }
   ],
   "execution_count": 5
  },
  {
   "metadata": {},
   "cell_type": "markdown",
   "source": "### Relationships between the local operator and the global operator",
   "id": "b42e3dcbbc1b9e99"
  },
  {
   "metadata": {
    "ExecuteTime": {
     "end_time": "2025-09-21T01:22:01.183543Z",
     "start_time": "2025-09-21T01:22:01.167268Z"
    }
   },
   "cell_type": "code",
   "source": "qs.jordan_wigner_transform_symbolize('b_j_def')",
   "id": "4dc878271733d07d",
   "outputs": [
    {
     "data": {
      "text/plain": [
       "<IPython.core.display.Math object>"
      ],
      "text/latex": "$\\displaystyle \\hat{b}_{j} = S_{+} = \\hat{K}_{j}\\hat{c}_{j} = \\hat{c}_{j}\\hat{K}_{j}$"
     },
     "execution_count": 6,
     "metadata": {},
     "output_type": "execute_result"
    }
   ],
   "execution_count": 6
  },
  {
   "metadata": {
    "ExecuteTime": {
     "end_time": "2025-09-21T01:22:01.223174Z",
     "start_time": "2025-09-21T01:22:01.216148Z"
    }
   },
   "cell_type": "code",
   "source": [
    "b_0 = qs.b_j(j=0, lattice_length=lattice_length)\n",
    "qs.show_matrix(b_0)"
   ],
   "id": "8bcda09977705446",
   "outputs": [
    {
     "data": {
      "text/plain": [
       "Matrix([\n",
       "[0, 0, 1.0,   0],\n",
       "[0, 0,   0, 1.0],\n",
       "[0, 0,   0,   0],\n",
       "[0, 0,   0,   0]])"
      ],
      "text/latex": "$\\displaystyle \\left[\\begin{matrix}0 & 0 & 1.0 & 0\\\\0 & 0 & 0 & 1.0\\\\0 & 0 & 0 & 0\\\\0 & 0 & 0 & 0\\end{matrix}\\right]$"
     },
     "execution_count": 7,
     "metadata": {},
     "output_type": "execute_result"
    }
   ],
   "execution_count": 7
  },
  {
   "metadata": {
    "ExecuteTime": {
     "end_time": "2025-09-21T01:22:01.271982Z",
     "start_time": "2025-09-21T01:22:01.266777Z"
    }
   },
   "cell_type": "code",
   "source": [
    "b_1 = qs.b_j(j=1, lattice_length=lattice_length)\n",
    "qs.show_matrix(b_1)"
   ],
   "id": "f675eddf9740301c",
   "outputs": [
    {
     "data": {
      "text/plain": [
       "Matrix([\n",
       "[0, 1.0, 0,   0],\n",
       "[0,   0, 0,   0],\n",
       "[0,   0, 0, 1.0],\n",
       "[0,   0, 0,   0]])"
      ],
      "text/latex": "$\\displaystyle \\left[\\begin{matrix}0 & 1.0 & 0 & 0\\\\0 & 0 & 0 & 0\\\\0 & 0 & 0 & 1.0\\\\0 & 0 & 0 & 0\\end{matrix}\\right]$"
     },
     "execution_count": 8,
     "metadata": {},
     "output_type": "execute_result"
    }
   ],
   "execution_count": 8
  },
  {
   "metadata": {
    "ExecuteTime": {
     "end_time": "2025-09-21T01:22:01.325133Z",
     "start_time": "2025-09-21T01:22:01.314470Z"
    }
   },
   "cell_type": "code",
   "source": "qs.jordan_wigner_transform_symbolize('c_j_def')",
   "id": "fb1786ed55f47aeb",
   "outputs": [
    {
     "data": {
      "text/plain": [
       "<IPython.core.display.Math object>"
      ],
      "text/latex": "$\\displaystyle \\hat{c}_{j} = \\hat{K}_{j}\\hat{b}_{j}$"
     },
     "execution_count": 9,
     "metadata": {},
     "output_type": "execute_result"
    }
   ],
   "execution_count": 9
  },
  {
   "metadata": {
    "ExecuteTime": {
     "end_time": "2025-09-21T01:22:01.369041Z",
     "start_time": "2025-09-21T01:22:01.363271Z"
    }
   },
   "cell_type": "code",
   "source": [
    "c_0 = qs.c_j(j=0, lattice_length=lattice_length)\n",
    "qs.show_matrix(c_0)"
   ],
   "id": "266954173c3468cc",
   "outputs": [
    {
     "data": {
      "text/plain": [
       "Matrix([\n",
       "[0, 0, 1.0,   0],\n",
       "[0, 0,   0, 1.0],\n",
       "[0, 0,   0,   0],\n",
       "[0, 0,   0,   0]])"
      ],
      "text/latex": "$\\displaystyle \\left[\\begin{matrix}0 & 0 & 1.0 & 0\\\\0 & 0 & 0 & 1.0\\\\0 & 0 & 0 & 0\\\\0 & 0 & 0 & 0\\end{matrix}\\right]$"
     },
     "execution_count": 10,
     "metadata": {},
     "output_type": "execute_result"
    }
   ],
   "execution_count": 10
  },
  {
   "metadata": {
    "ExecuteTime": {
     "end_time": "2025-09-21T01:22:01.416073Z",
     "start_time": "2025-09-21T01:22:01.410822Z"
    }
   },
   "cell_type": "code",
   "source": [
    "c_1 = qs.c_j(j=1, lattice_length=lattice_length)\n",
    "qs.show_matrix(c_1)"
   ],
   "id": "d2b1a17d7bdcde49",
   "outputs": [
    {
     "data": {
      "text/plain": [
       "Matrix([\n",
       "[0, 1.0, 0,    0],\n",
       "[0,   0, 0,    0],\n",
       "[0,   0, 0, -1.0],\n",
       "[0,   0, 0,    0]])"
      ],
      "text/latex": "$\\displaystyle \\left[\\begin{matrix}0 & 1.0 & 0 & 0\\\\0 & 0 & 0 & 0\\\\0 & 0 & 0 & -1.0\\\\0 & 0 & 0 & 0\\end{matrix}\\right]$"
     },
     "execution_count": 11,
     "metadata": {},
     "output_type": "execute_result"
    }
   ],
   "execution_count": 11
  },
  {
   "metadata": {},
   "cell_type": "markdown",
   "source": "### Commutation and anti-commutation relations",
   "id": "c8ade1396b33c26c"
  },
  {
   "metadata": {
    "ExecuteTime": {
     "end_time": "2025-09-21T01:22:01.466612Z",
     "start_time": "2025-09-21T01:22:01.459220Z"
    }
   },
   "cell_type": "code",
   "source": "qs.jordan_wigner_transform_symbolize('anti_comm_c_c')",
   "id": "bb37f3db448ded6",
   "outputs": [
    {
     "data": {
      "text/plain": [
       "<IPython.core.display.Math object>"
      ],
      "text/latex": "$\\displaystyle \\{\\hat{c}_{j}, \\hat{c}_{k}\\} = \\hat{c}_{j}\\hat{c}_{k} + \\hat{c}_{k}\\hat{c}_{j} = 0$"
     },
     "execution_count": 12,
     "metadata": {},
     "output_type": "execute_result"
    }
   ],
   "execution_count": 12
  },
  {
   "metadata": {
    "ExecuteTime": {
     "end_time": "2025-09-21T01:22:01.518744Z",
     "start_time": "2025-09-21T01:22:01.513693Z"
    }
   },
   "cell_type": "code",
   "source": "qs.show_matrix(qs.anti_commutator(c_0, c_1))",
   "id": "dc5da531eaa3662c",
   "outputs": [
    {
     "data": {
      "text/plain": [
       "Matrix([\n",
       "[0, 0, 0, 0],\n",
       "[0, 0, 0, 0],\n",
       "[0, 0, 0, 0],\n",
       "[0, 0, 0, 0]])"
      ],
      "text/latex": "$\\displaystyle \\left[\\begin{matrix}0 & 0 & 0 & 0\\\\0 & 0 & 0 & 0\\\\0 & 0 & 0 & 0\\\\0 & 0 & 0 & 0\\end{matrix}\\right]$"
     },
     "execution_count": 13,
     "metadata": {},
     "output_type": "execute_result"
    }
   ],
   "execution_count": 13
  },
  {
   "metadata": {
    "ExecuteTime": {
     "end_time": "2025-09-21T01:22:01.569913Z",
     "start_time": "2025-09-21T01:22:01.561760Z"
    }
   },
   "cell_type": "code",
   "source": "qs.jordan_wigner_transform_symbolize('anti_comm_cdag_cdag')",
   "id": "3a9c72f695e95171",
   "outputs": [
    {
     "data": {
      "text/plain": [
       "<IPython.core.display.Math object>"
      ],
      "text/latex": "$\\displaystyle \\{\\hat{c}^{\\dagger}_{j}, \\hat{c}^{\\dagger}_{k}\\} = \\hat{c}^{\\dagger}_{j}\\hat{c}^{\\dagger}_{k} + \\hat{c}^{\\dagger}_{k}\\hat{c}^{\\dagger}_{j} = 0$"
     },
     "execution_count": 14,
     "metadata": {},
     "output_type": "execute_result"
    }
   ],
   "execution_count": 14
  },
  {
   "metadata": {
    "ExecuteTime": {
     "end_time": "2025-09-21T01:22:01.616500Z",
     "start_time": "2025-09-21T01:22:01.610725Z"
    }
   },
   "cell_type": "code",
   "source": "qs.show_matrix(qs.anti_commutator(qs.dagger(c_0), qs.dagger(c_1)))",
   "id": "507016a1945f0c80",
   "outputs": [
    {
     "data": {
      "text/plain": [
       "Matrix([\n",
       "[0, 0, 0, 0],\n",
       "[0, 0, 0, 0],\n",
       "[0, 0, 0, 0],\n",
       "[0, 0, 0, 0]])"
      ],
      "text/latex": "$\\displaystyle \\left[\\begin{matrix}0 & 0 & 0 & 0\\\\0 & 0 & 0 & 0\\\\0 & 0 & 0 & 0\\\\0 & 0 & 0 & 0\\end{matrix}\\right]$"
     },
     "execution_count": 15,
     "metadata": {},
     "output_type": "execute_result"
    }
   ],
   "execution_count": 15
  },
  {
   "metadata": {
    "ExecuteTime": {
     "end_time": "2025-09-21T01:22:01.667369Z",
     "start_time": "2025-09-21T01:22:01.658842Z"
    }
   },
   "cell_type": "code",
   "source": "qs.jordan_wigner_transform_symbolize('anti_comm_c_cdag')",
   "id": "233250a2f67fc96c",
   "outputs": [
    {
     "data": {
      "text/plain": [
       "<IPython.core.display.Math object>"
      ],
      "text/latex": "$\\displaystyle \\{\\hat{c}_{j}, \\hat{c}^{\\dagger}_{k}\\} = \\hat{c}_{j}\\hat{c}^{\\dagger}_{k} + \\hat{c}^{\\dagger}_{k}\\hat{c}_{j} = \\delta_{jk}$"
     },
     "execution_count": 16,
     "metadata": {},
     "output_type": "execute_result"
    }
   ],
   "execution_count": 16
  },
  {
   "metadata": {
    "ExecuteTime": {
     "end_time": "2025-09-21T01:22:01.711971Z",
     "start_time": "2025-09-21T01:22:01.706311Z"
    }
   },
   "cell_type": "code",
   "source": "qs.show_matrix(qs.anti_commutator(c_0, qs.dagger(c_0)))",
   "id": "d3f43bc6a02679db",
   "outputs": [
    {
     "data": {
      "text/plain": [
       "Matrix([\n",
       "[1.0,   0,   0,   0],\n",
       "[  0, 1.0,   0,   0],\n",
       "[  0,   0, 1.0,   0],\n",
       "[  0,   0,   0, 1.0]])"
      ],
      "text/latex": "$\\displaystyle \\left[\\begin{matrix}1.0 & 0 & 0 & 0\\\\0 & 1.0 & 0 & 0\\\\0 & 0 & 1.0 & 0\\\\0 & 0 & 0 & 1.0\\end{matrix}\\right]$"
     },
     "execution_count": 17,
     "metadata": {},
     "output_type": "execute_result"
    }
   ],
   "execution_count": 17
  },
  {
   "metadata": {
    "ExecuteTime": {
     "end_time": "2025-09-21T01:22:01.761009Z",
     "start_time": "2025-09-21T01:22:01.755580Z"
    }
   },
   "cell_type": "code",
   "source": "qs.show_matrix(qs.anti_commutator(c_0, qs.dagger(c_1)))",
   "id": "72d433ac283074e",
   "outputs": [
    {
     "data": {
      "text/plain": [
       "Matrix([\n",
       "[0, 0, 0, 0],\n",
       "[0, 0, 0, 0],\n",
       "[0, 0, 0, 0],\n",
       "[0, 0, 0, 0]])"
      ],
      "text/latex": "$\\displaystyle \\left[\\begin{matrix}0 & 0 & 0 & 0\\\\0 & 0 & 0 & 0\\\\0 & 0 & 0 & 0\\\\0 & 0 & 0 & 0\\end{matrix}\\right]$"
     },
     "execution_count": 18,
     "metadata": {},
     "output_type": "execute_result"
    }
   ],
   "execution_count": 18
  },
  {
   "metadata": {},
   "cell_type": "markdown",
   "source": "### Useful expressions",
   "id": "b22e39c1dc7f87a6"
  },
  {
   "metadata": {
    "ExecuteTime": {
     "end_time": "2025-09-21T01:22:01.808755Z",
     "start_time": "2025-09-21T01:22:01.802410Z"
    }
   },
   "cell_type": "code",
   "source": "qs.jordan_wigner_transform_symbolize('b_dag_j_b_j')",
   "id": "bd036eb28d399e36",
   "outputs": [
    {
     "data": {
      "text/plain": [
       "<IPython.core.display.Math object>"
      ],
      "text/latex": "$\\displaystyle \\hat{b}^{\\dagger}_{j}\\hat{b}_{j}=\\hat{c}^{\\dagger}_{j}\\hat{c}_{j}$"
     },
     "execution_count": 19,
     "metadata": {},
     "output_type": "execute_result"
    }
   ],
   "execution_count": 19
  },
  {
   "metadata": {
    "ExecuteTime": {
     "end_time": "2025-09-21T01:22:01.856615Z",
     "start_time": "2025-09-21T01:22:01.851726Z"
    }
   },
   "cell_type": "code",
   "source": "torch.allclose(b_0.T.conj() @ b_0, c_0.T.conj() @ c_0)",
   "id": "44b55f012ea63d3",
   "outputs": [
    {
     "data": {
      "text/plain": [
       "True"
      ]
     },
     "execution_count": 20,
     "metadata": {},
     "output_type": "execute_result"
    }
   ],
   "execution_count": 20
  },
  {
   "metadata": {
    "ExecuteTime": {
     "end_time": "2025-09-21T01:22:01.905589Z",
     "start_time": "2025-09-21T01:22:01.898877Z"
    }
   },
   "cell_type": "code",
   "source": "qs.jordan_wigner_transform_symbolize('b_dag_j_b_dag_j+1')",
   "id": "e3411e974a762e4",
   "outputs": [
    {
     "data": {
      "text/plain": [
       "<IPython.core.display.Math object>"
      ],
      "text/latex": "$\\displaystyle \\hat{b}^{\\dagger}_{j}\\hat{b}^{\\dagger}_{j+1}=\\hat{c}^{\\dagger}_{j}\\hat{c}^{\\dagger}_{j+1}$"
     },
     "execution_count": 21,
     "metadata": {},
     "output_type": "execute_result"
    }
   ],
   "execution_count": 21
  },
  {
   "metadata": {
    "ExecuteTime": {
     "end_time": "2025-09-21T01:22:01.953075Z",
     "start_time": "2025-09-21T01:22:01.947743Z"
    }
   },
   "cell_type": "code",
   "source": "torch.allclose(b_0.T.conj() @ b_1.T.conj(), c_0.T.conj() @ c_1.T.conj())",
   "id": "e9071b8e0c5eb8c2",
   "outputs": [
    {
     "data": {
      "text/plain": [
       "True"
      ]
     },
     "execution_count": 22,
     "metadata": {},
     "output_type": "execute_result"
    }
   ],
   "execution_count": 22
  },
  {
   "metadata": {
    "ExecuteTime": {
     "end_time": "2025-09-21T01:22:02.005902Z",
     "start_time": "2025-09-21T01:22:01.998455Z"
    }
   },
   "cell_type": "code",
   "source": "qs.jordan_wigner_transform_symbolize('b_dag_j_b_j+1')",
   "id": "3964c74b77e0aa09",
   "outputs": [
    {
     "data": {
      "text/plain": [
       "<IPython.core.display.Math object>"
      ],
      "text/latex": "$\\displaystyle \\hat{b}^{\\dagger}_{j}\\hat{b}_{j+1}=\\hat{c}^{\\dagger}_{j}\\hat{c}_{j+1}$"
     },
     "execution_count": 23,
     "metadata": {},
     "output_type": "execute_result"
    }
   ],
   "execution_count": 23
  },
  {
   "metadata": {
    "ExecuteTime": {
     "end_time": "2025-09-21T01:22:02.050774Z",
     "start_time": "2025-09-21T01:22:02.046762Z"
    }
   },
   "cell_type": "code",
   "source": "torch.allclose(b_0.T.conj() @ b_1, c_0.T.conj() @ c_1)",
   "id": "63d9a85fcc87e3a8",
   "outputs": [
    {
     "data": {
      "text/plain": [
       "True"
      ]
     },
     "execution_count": 24,
     "metadata": {},
     "output_type": "execute_result"
    }
   ],
   "execution_count": 24
  },
  {
   "metadata": {
    "ExecuteTime": {
     "end_time": "2025-09-21T01:22:02.102892Z",
     "start_time": "2025-09-21T01:22:02.094856Z"
    }
   },
   "cell_type": "code",
   "source": "qs.jordan_wigner_transform_symbolize('b_j_b_j+1')",
   "id": "a9d814e7610705d1",
   "outputs": [
    {
     "data": {
      "text/plain": [
       "<IPython.core.display.Math object>"
      ],
      "text/latex": "$\\displaystyle \\hat{b}_{j}\\hat{b}_{j+1}=-\\hat{c}_{j}\\hat{c}_{j+1}$"
     },
     "execution_count": 25,
     "metadata": {},
     "output_type": "execute_result"
    }
   ],
   "execution_count": 25
  },
  {
   "metadata": {
    "ExecuteTime": {
     "end_time": "2025-09-21T01:22:02.147277Z",
     "start_time": "2025-09-21T01:22:02.143225Z"
    }
   },
   "cell_type": "code",
   "source": "torch.allclose(b_0 @ b_1, - c_0 @ c_1)",
   "id": "de4af990d4e057cd",
   "outputs": [
    {
     "data": {
      "text/plain": [
       "True"
      ]
     },
     "execution_count": 26,
     "metadata": {},
     "output_type": "execute_result"
    }
   ],
   "execution_count": 26
  },
  {
   "metadata": {
    "ExecuteTime": {
     "end_time": "2025-09-21T01:22:02.199247Z",
     "start_time": "2025-09-21T01:22:02.190468Z"
    }
   },
   "cell_type": "code",
   "source": "qs.jordan_wigner_transform_symbolize('b_j_b_dag_j+1')",
   "id": "1386944091edd714",
   "outputs": [
    {
     "data": {
      "text/plain": [
       "<IPython.core.display.Math object>"
      ],
      "text/latex": "$\\displaystyle \\hat{b}_{j}\\hat{b}^{\\dagger}_{j+1}=-\\hat{c}_{j}\\hat{c}^{\\dagger}_{j+1}$"
     },
     "execution_count": 27,
     "metadata": {},
     "output_type": "execute_result"
    }
   ],
   "execution_count": 27
  },
  {
   "metadata": {
    "ExecuteTime": {
     "end_time": "2025-09-21T01:22:02.243958Z",
     "start_time": "2025-09-21T01:22:02.239446Z"
    }
   },
   "cell_type": "code",
   "source": "torch.allclose(b_0 @ b_1.T.conj(), - c_0 @ c_1.T.conj())",
   "id": "383a1a9a47a7c140",
   "outputs": [
    {
     "data": {
      "text/plain": [
       "True"
      ]
     },
     "execution_count": 28,
     "metadata": {},
     "output_type": "execute_result"
    }
   ],
   "execution_count": 28
  },
  {
   "metadata": {
    "ExecuteTime": {
     "end_time": "2025-09-21T01:22:02.299808Z",
     "start_time": "2025-09-21T01:22:02.292500Z"
    }
   },
   "cell_type": "code",
   "source": "qs.jordan_wigner_transform_symbolize('sigma_x_j')",
   "id": "468e141831e6b970",
   "outputs": [
    {
     "data": {
      "text/plain": [
       "<IPython.core.display.Math object>"
      ],
      "text/latex": "$\\displaystyle \\hat{\\sigma}^{x}_{j}=\\hat{K}_{j}(\\hat{c}^{\\dagger}_{j}+\\hat{c}_{j})$"
     },
     "execution_count": 29,
     "metadata": {},
     "output_type": "execute_result"
    }
   ],
   "execution_count": 29
  },
  {
   "metadata": {
    "ExecuteTime": {
     "end_time": "2025-09-21T01:22:02.350248Z",
     "start_time": "2025-09-21T01:22:02.344278Z"
    }
   },
   "cell_type": "code",
   "source": [
    "sigma_x_1 = qs.to_global_operator(j=1, lattice_length=lattice_length, local_operator=qs.pauli_x())\n",
    "jw_sigma_x_1 = qs.jordan_wigner_transform_1d_spin_half_global_to_global(j=1, lattice_length=lattice_length, global_op=sigma_x_1)\n",
    "torch.allclose(jw_sigma_x_1, c_1.T.conj() + c_1)"
   ],
   "id": "8b3629a0a454db5b",
   "outputs": [
    {
     "data": {
      "text/plain": [
       "True"
      ]
     },
     "execution_count": 30,
     "metadata": {},
     "output_type": "execute_result"
    }
   ],
   "execution_count": 30
  },
  {
   "metadata": {
    "ExecuteTime": {
     "end_time": "2025-09-21T01:22:02.402977Z",
     "start_time": "2025-09-21T01:22:02.394520Z"
    }
   },
   "cell_type": "code",
   "source": "qs.jordan_wigner_transform_symbolize('sigma_y_j')",
   "id": "a955a345043975c8",
   "outputs": [
    {
     "data": {
      "text/plain": [
       "<IPython.core.display.Math object>"
      ],
      "text/latex": "$\\displaystyle \\hat{\\sigma}^{y}_{j}=\\hat{K}_{j}i(\\hat{c}^{\\dagger}_{j}-\\hat{c}_{j})$"
     },
     "execution_count": 31,
     "metadata": {},
     "output_type": "execute_result"
    }
   ],
   "execution_count": 31
  },
  {
   "metadata": {
    "ExecuteTime": {
     "end_time": "2025-09-21T01:22:02.450263Z",
     "start_time": "2025-09-21T01:22:02.444485Z"
    }
   },
   "cell_type": "code",
   "source": [
    "sigma_y_1 = qs.to_global_operator(j=1, lattice_length=lattice_length, local_operator=qs.pauli_y())\n",
    "jw_sigma_y_1 = qs.jordan_wigner_transform_1d_spin_half_global_to_global(j=1, lattice_length=lattice_length, global_op=sigma_y_1)\n",
    "torch.allclose(jw_sigma_y_1, 1j * (c_1.T.conj() - c_1))"
   ],
   "id": "b1842dab1b1ba5e4",
   "outputs": [
    {
     "data": {
      "text/plain": [
       "True"
      ]
     },
     "execution_count": 32,
     "metadata": {},
     "output_type": "execute_result"
    }
   ],
   "execution_count": 32
  },
  {
   "metadata": {
    "ExecuteTime": {
     "end_time": "2025-09-21T01:22:02.502324Z",
     "start_time": "2025-09-21T01:22:02.494407Z"
    }
   },
   "cell_type": "code",
   "source": "qs.jordan_wigner_transform_symbolize('sigma_z_j')",
   "id": "2da26ae57ea608c3",
   "outputs": [
    {
     "data": {
      "text/plain": [
       "<IPython.core.display.Math object>"
      ],
      "text/latex": "$\\displaystyle \\hat{\\sigma}^{z}_{j}=1-2\\hat{n}_{j}=(\\hat{c}^{\\dagger}_{j}+\\hat{c}_{j})(\\hat{c}^{\\dagger}_{j}-\\hat{c}_{j})$"
     },
     "execution_count": 33,
     "metadata": {},
     "output_type": "execute_result"
    }
   ],
   "execution_count": 33
  },
  {
   "metadata": {
    "ExecuteTime": {
     "end_time": "2025-09-21T01:22:02.557964Z",
     "start_time": "2025-09-21T01:22:02.552343Z"
    }
   },
   "cell_type": "code",
   "source": [
    "sigma_z_1 = qs.to_global_operator(j=1, lattice_length=lattice_length, local_operator=qs.pauli_z())\n",
    "n_1 = qs.n_j(j=1, lattice_length=lattice_length)\n",
    "torch.allclose(sigma_z_1, torch.eye(2**lattice_length) - 2 * n_1)"
   ],
   "id": "179198b84236fab1",
   "outputs": [
    {
     "data": {
      "text/plain": [
       "True"
      ]
     },
     "execution_count": 34,
     "metadata": {},
     "output_type": "execute_result"
    }
   ],
   "execution_count": 34
  },
  {
   "metadata": {
    "ExecuteTime": {
     "end_time": "2025-09-21T01:22:02.613971Z",
     "start_time": "2025-09-21T01:22:02.602002Z"
    }
   },
   "cell_type": "code",
   "source": "qs.jordan_wigner_transform_symbolize('sigma_x_j_sigma_x_j+1')",
   "id": "6196f2ce2b2aeabf",
   "outputs": [
    {
     "data": {
      "text/plain": [
       "<IPython.core.display.Math object>"
      ],
      "text/latex": "$\\displaystyle \\hat{\\sigma}^{x}_{j}\\hat{\\sigma}^{x}_{j+1}=\\hat{c}^{\\dagger}_{j}\\hat{c}^{\\dagger}_{j+1}+\\hat{c}^{\\dagger}_{j}\\hat{c}_{j+1}+H.c.$"
     },
     "execution_count": 35,
     "metadata": {},
     "output_type": "execute_result"
    }
   ],
   "execution_count": 35
  },
  {
   "metadata": {
    "ExecuteTime": {
     "end_time": "2025-09-21T01:22:02.655834Z",
     "start_time": "2025-09-21T01:22:02.650429Z"
    }
   },
   "cell_type": "code",
   "source": [
    "sigma_x_0 = qs.to_global_operator(j=0, lattice_length=lattice_length, local_operator=qs.pauli_x())\n",
    "sigma_x_1 = qs.to_global_operator(j=1, lattice_length=lattice_length, local_operator=qs.pauli_x())\n",
    "sigma_xx = sigma_x_0 @ sigma_x_1\n",
    "torch.allclose(sigma_xx, c_0.T.conj() @ c_1.T.conj() + c_0.T.conj() @ c_1 + qs.dagger(c_0.T.conj() @ c_1.T.conj() + c_0.T.conj() @ c_1))"
   ],
   "id": "9ec0468408474b00",
   "outputs": [
    {
     "data": {
      "text/plain": [
       "True"
      ]
     },
     "execution_count": 36,
     "metadata": {},
     "output_type": "execute_result"
    }
   ],
   "execution_count": 36
  },
  {
   "metadata": {
    "ExecuteTime": {
     "end_time": "2025-09-21T01:22:02.709697Z",
     "start_time": "2025-09-21T01:22:02.702625Z"
    }
   },
   "cell_type": "code",
   "source": "qs.jordan_wigner_transform_symbolize('sigma_y_j_sigma_y_j+1')",
   "id": "a0dcdc3597b2088a",
   "outputs": [
    {
     "data": {
      "text/plain": [
       "<IPython.core.display.Math object>"
      ],
      "text/latex": "$\\displaystyle \\hat{\\sigma}^{y}_{j}\\hat{\\sigma}^{y}_{j+1}=-(\\hat{c}^{\\dagger}_{j}\\hat{c}^{\\dagger}_{j+1}-\\hat{c}^{\\dagger}_{j}\\hat{c}_{j+1}+H.c.)$"
     },
     "execution_count": 37,
     "metadata": {},
     "output_type": "execute_result"
    }
   ],
   "execution_count": 37
  },
  {
   "metadata": {
    "ExecuteTime": {
     "end_time": "2025-09-21T01:22:02.756462Z",
     "start_time": "2025-09-21T01:22:02.750537Z"
    }
   },
   "cell_type": "code",
   "source": [
    "sigma_y_0 = qs.to_global_operator(j=0, lattice_length=lattice_length, local_operator=qs.pauli_y())\n",
    "sigma_y_1 = qs.to_global_operator(j=1, lattice_length=lattice_length, local_operator=qs.pauli_y())\n",
    "sigma_yy = sigma_y_0 @ sigma_y_1\n",
    "torch.allclose(sigma_yy, - c_0.T.conj() @ c_1.T.conj() + c_0.T.conj() @ c_1 + qs.dagger(- c_0.T.conj() @ c_1.T.conj() + c_0.T.conj() @ c_1))"
   ],
   "id": "6fc113e815f25460",
   "outputs": [
    {
     "data": {
      "text/plain": [
       "True"
      ]
     },
     "execution_count": 38,
     "metadata": {},
     "output_type": "execute_result"
    }
   ],
   "execution_count": 38
  },
  {
   "metadata": {},
   "cell_type": "markdown",
   "source": "### The properties of the fermionic states",
   "id": "341e4e75007b02ec"
  },
  {
   "metadata": {},
   "cell_type": "markdown",
   "source": "vacuum state $|0000>$",
   "id": "de145a4c921e9082"
  },
  {
   "metadata": {
    "ExecuteTime": {
     "end_time": "2025-09-21T01:22:02.801478Z",
     "start_time": "2025-09-21T01:22:02.798303Z"
    }
   },
   "cell_type": "code",
   "source": [
    "vacuum_state = qs.fock_state(\"0\"*4,)\n",
    "qs.view_fock_state(vacuum_state)"
   ],
   "id": "26742cef5d335946",
   "outputs": [
    {
     "name": "stdout",
     "output_type": "stream",
     "text": [
      "(1.0000)|0000⟩\n"
     ]
    }
   ],
   "execution_count": 39
  },
  {
   "metadata": {},
   "cell_type": "markdown",
   "source": [
    "create an excited state with two fermions at site 1 and site 3\n",
    "\n",
    "$c^{\\dagger}_1 c^{\\dagger}_3 |0000> = |0101>$"
   ],
   "id": "a79c4e549690ae8f"
  },
  {
   "metadata": {
    "ExecuteTime": {
     "end_time": "2025-09-21T01:22:02.851961Z",
     "start_time": "2025-09-21T01:22:02.847350Z"
    }
   },
   "cell_type": "code",
   "source": [
    "c_dag_1 = qs.c_dag_j(j=1, lattice_length=4)\n",
    "c_dag_3 = qs.c_dag_j(j=3, lattice_length=4)\n",
    "excited_state = c_dag_1 @ c_dag_3 @ vacuum_state\n",
    "qs.view_fock_state(excited_state)"
   ],
   "id": "b245d46c46263cb4",
   "outputs": [
    {
     "name": "stdout",
     "output_type": "stream",
     "text": [
      "(1.0000)|0101⟩\n"
     ]
    }
   ],
   "execution_count": 40
  },
  {
   "metadata": {},
   "cell_type": "markdown",
   "source": [
    "move a fermion from site 3 to site 0\n",
    "\n",
    "$c^{\\dagger}_0 c_3 |0101> = -|1100>$\n",
    "\n",
    "the minus sign is due to the anti-commutation relation of the fermionic operators"
   ],
   "id": "69a22aa2bbd40a8b"
  },
  {
   "metadata": {
    "ExecuteTime": {
     "end_time": "2025-09-21T01:22:02.901514Z",
     "start_time": "2025-09-21T01:22:02.897434Z"
    }
   },
   "cell_type": "code",
   "source": [
    "c_3 = qs.c_j(j=3, lattice_length=4)\n",
    "c_dag_0 = qs.c_dag_j(j=0, lattice_length=4)\n",
    "excited_state_2 = c_dag_0 @ c_3 @ excited_state\n",
    "qs.view_fock_state(excited_state_2)"
   ],
   "id": "c9c54e4bccc6e7cc",
   "outputs": [
    {
     "name": "stdout",
     "output_type": "stream",
     "text": [
      "(-1.0000)|1100⟩\n"
     ]
    }
   ],
   "execution_count": 41
  }
 ],
 "metadata": {
  "kernelspec": {
   "display_name": "Python 3",
   "language": "python",
   "name": "python3"
  },
  "language_info": {
   "codemirror_mode": {
    "name": "ipython",
    "version": 2
   },
   "file_extension": ".py",
   "mimetype": "text/x-python",
   "name": "python",
   "nbconvert_exporter": "python",
   "pygments_lexer": "ipython2",
   "version": "2.7.6"
  }
 },
 "nbformat": 4,
 "nbformat_minor": 5
}
