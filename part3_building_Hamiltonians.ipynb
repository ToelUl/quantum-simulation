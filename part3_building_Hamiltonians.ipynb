{
 "cells": [
  {
   "metadata": {},
   "cell_type": "markdown",
   "source": [
    "# Tutorial: Building Quantum Hamiltonians with the `quantum_simulation` Toolkit\n",
    "\n",
    "Welcome to this tutorial\\! The goal of this guide is to walk you through the process of constructing Hamiltonian matrices for various quantum systems using the powerful and flexible `quantum_simulation` toolkit.\n",
    "\n",
    "The library is built on a few core principles:\n",
    "\n",
    "  * **Modularity:** Operator definitions, the Hamiltonian builder, and pre-built physical models are separated into distinct modules (`operator`, `hamiltonian`, `models`).\n",
    "  * **Package Structure:** All modules are part of a unified `quantum_simulation` package, allowing for clean and organized imports.\n",
    "  * **Flexibility:** The `Hamiltonian` class acts as a universal builder, allowing you to add different types of terms (spin, boson, fermion) to construct the matrix for nearly any lattice model.\n",
    "  * **Ease of Use:** For common systems, the `models` module provides ready-to-use classes that handle the construction for you and can even display a symbolic representation of the Hamiltonian.\n",
    "\n",
    "In this tutorial, we will cover:\n",
    "\n",
    "1.  **Setting up the `quantum_simulation` package** in Colab.\n",
    "2.  **Understanding the core components** of the toolkit.\n",
    "3.  **Building a spin model from scratch** (the Transverse Field Ising Model).\n",
    "4.  **Building a fermionic model from scratch** (the Su-Schrieffer-Heeger Model).\n",
    "5.  **Exploring the pre-built `models` module** and its catalog of Hamiltonians.\n",
    "6.  **Using the `add_prebuilt_term`** for special cases."
   ],
   "id": "5d14081402f5e0d2"
  },
  {
   "metadata": {},
   "cell_type": "markdown",
   "source": [
    "## 1\\. Setup and Installation\n",
    "\n",
    "First, we need to structure our code as a Python package in the Colab environment and install the necessary dependencies."
   ],
   "id": "e21346244d06f6ee"
  },
  {
   "metadata": {
    "ExecuteTime": {
     "end_time": "2025-09-24T05:22:50.840969Z",
     "start_time": "2025-09-24T05:22:49.172376Z"
    }
   },
   "cell_type": "code",
   "source": [
    "try:\n",
    "    import quantum_simulation as qs\n",
    "    from quantum_simulation import operator as op\n",
    "except ModuleNotFoundError:\n",
    "    !git clone https://github.com/ToelUl/quantum-simulation.git\n",
    "    !cp -r quantum-simulation/quantum_simulation ./\n",
    "    import quantum_simulation as qs\n",
    "    from quantum_simulation import operator as op"
   ],
   "id": "9b4ad7230b320ca3",
   "outputs": [],
   "execution_count": 1
  },
  {
   "metadata": {},
   "cell_type": "markdown",
   "source": [
    "## 2\\. The Core Components: An Overview\n",
    "\n",
    "Let's briefly review the purpose of each main component.\n",
    "\n",
    "  * **`operator.py`**: The foundation. It provides functions that generate the explicit matrix representations of quantum operators (e.g., Pauli matrices, fermionic operators).\n",
    "  * **`hamiltonian.py`**: The heart of the toolkit. It contains the `Hamiltonian` class, which acts as the main builder for constructing the final matrix from individual terms.\n",
    "  * **`models.py`**: A high-level, user-friendly interface containing pre-built classes for common physical models (e.g., `HeisenbergModel`).\n",
    "\n",
    "Let's import these modules and look at a simple operator."
   ],
   "id": "286269e3ea55d05a"
  },
  {
   "cell_type": "code",
   "id": "initial_id",
   "metadata": {
    "collapsed": true,
    "ExecuteTime": {
     "end_time": "2025-09-24T05:22:51.034835Z",
     "start_time": "2025-09-24T05:22:50.984198Z"
    }
   },
   "source": [
    "import torch\n",
    "\n",
    "# Let's create a single Pauli-X operator for a spin-1/2 system\n",
    "sx_matrix = op.pauli_x(spin=0.5)\n",
    "\n",
    "print(\"Pauli-X matrix for spin=1/2:\")\n",
    "qs.show_matrix(sx_matrix)"
   ],
   "outputs": [
    {
     "name": "stdout",
     "output_type": "stream",
     "text": [
      "Pauli-X matrix for spin=1/2:\n"
     ]
    },
    {
     "data": {
      "text/plain": [
       "Matrix([\n",
       "[  0, 1.0],\n",
       "[1.0,   0]])"
      ],
      "text/latex": "$\\displaystyle \\left[\\begin{matrix}0 & 1.0\\\\1.0 & 0\\end{matrix}\\right]$"
     },
     "execution_count": 2,
     "metadata": {},
     "output_type": "execute_result"
    }
   ],
   "execution_count": 2
  },
  {
   "metadata": {},
   "cell_type": "markdown",
   "source": [
    "## 3\\. Building a Hamiltonian from Scratch: The 1D Transverse Field Ising Model (TFIM)\n",
    "\n",
    "Now, we will build a Hamiltonian for a well-known model completely from scratch. The TFIM Hamiltonian is defined as:\n",
    "$$H = -J \\sum_{i=0}^{N-2} S^x_i S^x_{i+1} - h \\sum_{i=0}^{N-1} S^z_i$$\n",
    "\n",
    "This involves an interaction term ($J$) and a field term ($h$). Let's build it step-by-step."
   ],
   "id": "a8002951837e0f28"
  },
  {
   "metadata": {
    "ExecuteTime": {
     "end_time": "2025-09-24T05:22:51.062354Z",
     "start_time": "2025-09-24T05:22:51.042329Z"
    }
   },
   "cell_type": "code",
   "source": [
    "# --- Step 1: Define model parameters ---\n",
    "L = 4  # Number of sites in the chain\n",
    "J = 1.0  # Interaction strength\n",
    "h = 0.5  # Transverse field strength\n",
    "\n",
    "# --- Step 2: Initialize the Hamiltonian builder ---\n",
    "from quantum_simulation.hamiltonian import Hamiltonian\n",
    "from quantum_simulation import operator as op\n",
    "import quantum_simulation as qs\n",
    "\n",
    "tfim_builder = Hamiltonian(lattice_length=L, spin=0.5)\n",
    "\n",
    "print(f\"Building a TFIM Hamiltonian for a system with {L} sites.\")\n",
    "print(f\"Total Hilbert space dimension: {tfim_builder.total_dim}x{tfim_builder.total_dim}\")\n",
    "\n",
    "# --- Step 3: Add the nearest-neighbor S^x S^x interaction terms ---\n",
    "print(\"\\nAdding interaction terms...\")\n",
    "# We loop from site 0 to L-2 for open boundary conditions.\n",
    "for i in range(L - 1):\n",
    "    j = i + 1\n",
    "    tfim_builder.add_spin_term(\n",
    "        coefficient=-J,\n",
    "        operators=[op.S_x, op.S_x],\n",
    "        sites=[i, j]\n",
    "    )\n",
    "    print(f\"  Added -J * S_x({i}) * S_x({j})\")\n",
    "\n",
    "# --- Step 4: Add the on-site S_z field term ---\n",
    "print(\"\\nAdding transverse field terms...\")\n",
    "for i in range(L):\n",
    "    tfim_builder.add_spin_term(\n",
    "        coefficient=-h,\n",
    "        operators=[op.S_z],\n",
    "        sites=[i]\n",
    "    )\n",
    "    print(f\"  Added -h * S_z({i})\")\n",
    "\n",
    "# --- Step 5: Build the final matrix ---\n",
    "H_tfim = tfim_builder.build()\n",
    "\n",
    "print(\"\\nSuccessfully built the Hamiltonian matrix.\")\n",
    "print(\"Shape of the final matrix:\", H_tfim.shape)\n",
    "print(\"\\nFinal Hamiltonian Matrix (TFIM):\")\n",
    "qs.show_matrix(H_tfim)"
   ],
   "id": "72b11e939b0e9fae",
   "outputs": [
    {
     "name": "stdout",
     "output_type": "stream",
     "text": [
      "Building a TFIM Hamiltonian for a system with 4 sites.\n",
      "Total Hilbert space dimension: 16x16\n",
      "\n",
      "Adding interaction terms...\n",
      "  Added -J * S_x(0) * S_x(1)\n",
      "  Added -J * S_x(1) * S_x(2)\n",
      "  Added -J * S_x(2) * S_x(3)\n",
      "\n",
      "Adding transverse field terms...\n",
      "  Added -h * S_z(0)\n",
      "  Added -h * S_z(1)\n",
      "  Added -h * S_z(2)\n",
      "  Added -h * S_z(3)\n",
      "\n",
      "Successfully built the Hamiltonian matrix.\n",
      "Shape of the final matrix: torch.Size([16, 16])\n",
      "\n",
      "Final Hamiltonian Matrix (TFIM):\n"
     ]
    },
    {
     "data": {
      "text/plain": [
       "Matrix([\n",
       "[ -1.0,     0,     0, -0.25,     0,     0, -0.25,     0,     0,     0,     0,     0, -0.25,     0,     0,     0],\n",
       "[    0,  -0.5, -0.25,     0,     0,     0,     0, -0.25,     0,     0,     0,     0,     0, -0.25,     0,     0],\n",
       "[    0, -0.25,  -0.5,     0, -0.25,     0,     0,     0,     0,     0,     0,     0,     0,     0, -0.25,     0],\n",
       "[-0.25,     0,     0,     0,     0, -0.25,     0,     0,     0,     0,     0,     0,     0,     0,     0, -0.25],\n",
       "[    0,     0, -0.25,     0,  -0.5,     0,     0, -0.25, -0.25,     0,     0,     0,     0,     0,     0,     0],\n",
       "[    0,     0,     0, -0.25,     0,     0, -0.25,     0,     0, -0.25,     0,     0,     0,     0,     0,     0],\n",
       "[-0.25,     0,     0,     0,     0, -0.25,     0,     0,     0,     0, -0.25,     0,     0,     0,     0,     0],\n",
       "[    0, -0.25,     0,     0, -0.25,     0,     0,   0.5,     0,     0,     0, -0.25,     0,     0,     0,     0],\n",
       "[    0,     0,     0,     0, -0.25,     0,     0,     0,  -0.5,     0,     0, -0.25,     0,     0, -0.25,     0],\n",
       "[    0,     0,     0,     0,     0, -0.25,     0,     0,     0,     0, -0.25,     0,     0,     0,     0, -0.25],\n",
       "[    0,     0,     0,     0,     0,     0, -0.25,     0,     0, -0.25,     0,     0, -0.25,     0,     0,     0],\n",
       "[    0,     0,     0,     0,     0,     0,     0, -0.25, -0.25,     0,     0,   0.5,     0, -0.25,     0,     0],\n",
       "[-0.25,     0,     0,     0,     0,     0,     0,     0,     0,     0, -0.25,     0,     0,     0,     0, -0.25],\n",
       "[    0, -0.25,     0,     0,     0,     0,     0,     0,     0,     0,     0, -0.25,     0,   0.5, -0.25,     0],\n",
       "[    0,     0, -0.25,     0,     0,     0,     0,     0, -0.25,     0,     0,     0,     0, -0.25,   0.5,     0],\n",
       "[    0,     0,     0, -0.25,     0,     0,     0,     0,     0, -0.25,     0,     0, -0.25,     0,     0,   1.0]])"
      ],
      "text/latex": "$\\displaystyle \\left[\\begin{array}{cccccccccccccccc}-1.0 & 0 & 0 & -0.25 & 0 & 0 & -0.25 & 0 & 0 & 0 & 0 & 0 & -0.25 & 0 & 0 & 0\\\\0 & -0.5 & -0.25 & 0 & 0 & 0 & 0 & -0.25 & 0 & 0 & 0 & 0 & 0 & -0.25 & 0 & 0\\\\0 & -0.25 & -0.5 & 0 & -0.25 & 0 & 0 & 0 & 0 & 0 & 0 & 0 & 0 & 0 & -0.25 & 0\\\\-0.25 & 0 & 0 & 0 & 0 & -0.25 & 0 & 0 & 0 & 0 & 0 & 0 & 0 & 0 & 0 & -0.25\\\\0 & 0 & -0.25 & 0 & -0.5 & 0 & 0 & -0.25 & -0.25 & 0 & 0 & 0 & 0 & 0 & 0 & 0\\\\0 & 0 & 0 & -0.25 & 0 & 0 & -0.25 & 0 & 0 & -0.25 & 0 & 0 & 0 & 0 & 0 & 0\\\\-0.25 & 0 & 0 & 0 & 0 & -0.25 & 0 & 0 & 0 & 0 & -0.25 & 0 & 0 & 0 & 0 & 0\\\\0 & -0.25 & 0 & 0 & -0.25 & 0 & 0 & 0.5 & 0 & 0 & 0 & -0.25 & 0 & 0 & 0 & 0\\\\0 & 0 & 0 & 0 & -0.25 & 0 & 0 & 0 & -0.5 & 0 & 0 & -0.25 & 0 & 0 & -0.25 & 0\\\\0 & 0 & 0 & 0 & 0 & -0.25 & 0 & 0 & 0 & 0 & -0.25 & 0 & 0 & 0 & 0 & -0.25\\\\0 & 0 & 0 & 0 & 0 & 0 & -0.25 & 0 & 0 & -0.25 & 0 & 0 & -0.25 & 0 & 0 & 0\\\\0 & 0 & 0 & 0 & 0 & 0 & 0 & -0.25 & -0.25 & 0 & 0 & 0.5 & 0 & -0.25 & 0 & 0\\\\-0.25 & 0 & 0 & 0 & 0 & 0 & 0 & 0 & 0 & 0 & -0.25 & 0 & 0 & 0 & 0 & -0.25\\\\0 & -0.25 & 0 & 0 & 0 & 0 & 0 & 0 & 0 & 0 & 0 & -0.25 & 0 & 0.5 & -0.25 & 0\\\\0 & 0 & -0.25 & 0 & 0 & 0 & 0 & 0 & -0.25 & 0 & 0 & 0 & 0 & -0.25 & 0.5 & 0\\\\0 & 0 & 0 & -0.25 & 0 & 0 & 0 & 0 & 0 & -0.25 & 0 & 0 & -0.25 & 0 & 0 & 1.0\\end{array}\\right]$"
     },
     "execution_count": 3,
     "metadata": {},
     "output_type": "execute_result"
    }
   ],
   "execution_count": 3
  },
  {
   "metadata": {},
   "cell_type": "markdown",
   "source": [
    "## 4\\. Building a Fermionic Model from Scratch: The Su-Schrieffer-Heeger (SSH) Model\n",
    "\n",
    "Next, let's build a fermionic model to see how `add_fermion_term` works. The SSH Hamiltonian describes fermions on a 1D bipartite lattice:\n",
    "$$H = -v \\sum_{i} (c_{A,i}^\\dagger c_{B,i} + \\text{h.c.}) - w \\sum_{i} (c_{B,i}^\\dagger c_{A,i+1} + \\text{h.c.})$$\n",
    "We map sites as:\n",
    "\n",
    "$A_i \\to 2i$,\n",
    "\n",
    "$B_i \\to 2i+1$."
   ],
   "id": "f236e1401dada367"
  },
  {
   "metadata": {
    "ExecuteTime": {
     "end_time": "2025-09-24T05:22:51.131312Z",
     "start_time": "2025-09-24T05:22:51.108131Z"
    }
   },
   "cell_type": "code",
   "source": [
    "# --- Step 1: Define SSH model parameters ---\n",
    "num_cells = 3  # Number of A-B unit cells\n",
    "total_sites = 2 * num_cells\n",
    "v = 1.0  # Intra-cell hopping\n",
    "w = 0.5  # Inter-cell hopping\n",
    "\n",
    "# --- Step 2: Initialize the builder ---\n",
    "from quantum_simulation.hamiltonian import Hamiltonian\n",
    "from quantum_simulation import operator as op\n",
    "\n",
    "ssh_builder = Hamiltonian(lattice_length=total_sites, spin=0.5)\n",
    "\n",
    "print(f\"Building SSH model with {num_cells} cells ({total_sites} total sites).\")\n",
    "\n",
    "# --- Step 3: Add intra-cell hopping (v-terms) ---\n",
    "print(\"\\nAdding intra-cell hopping terms (v)...\")\n",
    "for i in range(num_cells):\n",
    "    site_a = 2 * i\n",
    "    site_b = 2 * i + 1\n",
    "    # c_A^dag * c_B term and its Hermitian conjugate\n",
    "    ssh_builder.add_fermion_term(-v, [op.c_dag_j, op.c_j], [site_a, site_b])\n",
    "    ssh_builder.add_fermion_term(-v, [op.c_dag_j, op.c_j], [site_b, site_a])\n",
    "    print(f\"  Added hopping between sites {site_a} (A_{i}) and {site_b} (B_{i})\")\n",
    "\n",
    "# --- Step 4: Add inter-cell hopping (w-terms) ---\n",
    "print(\"\\nAdding inter-cell hopping terms (w)...\")\n",
    "# Loop to num_cells - 1 for open boundary conditions\n",
    "for i in range(num_cells - 1):\n",
    "    source_site = 2 * i + 1          # B-site of cell i\n",
    "    target_site = 2 * (i + 1)        # A-site of cell i+1\n",
    "    # c_B^dag * c_A term and its Hermitian conjugate\n",
    "    ssh_builder.add_fermion_term(-w, [op.c_dag_j, op.c_j], [source_site, target_site])\n",
    "    ssh_builder.add_fermion_term(-w, [op.c_dag_j, op.c_j], [target_site, source_site])\n",
    "    print(f\"  Added hopping between sites {source_site} (B_{i}) and {target_site} (A_{i+1})\")\n",
    "\n",
    "# --- Step 5: Build the final matrix ---\n",
    "H_ssh = ssh_builder.build()\n",
    "\n",
    "print(\"\\nSuccessfully built the SSH Hamiltonian matrix.\")\n",
    "print(\"Shape of the final matrix:\", H_ssh.shape)"
   ],
   "id": "56934b22808b01d9",
   "outputs": [
    {
     "name": "stdout",
     "output_type": "stream",
     "text": [
      "Building SSH model with 3 cells (6 total sites).\n",
      "\n",
      "Adding intra-cell hopping terms (v)...\n",
      "  Added hopping between sites 0 (A_0) and 1 (B_0)\n",
      "  Added hopping between sites 2 (A_1) and 3 (B_1)\n",
      "  Added hopping between sites 4 (A_2) and 5 (B_2)\n",
      "\n",
      "Adding inter-cell hopping terms (w)...\n",
      "  Added hopping between sites 1 (B_0) and 2 (A_1)\n",
      "  Added hopping between sites 3 (B_1) and 4 (A_2)\n",
      "\n",
      "Successfully built the SSH Hamiltonian matrix.\n",
      "Shape of the final matrix: torch.Size([64, 64])\n"
     ]
    }
   ],
   "execution_count": 4
  },
  {
   "metadata": {},
   "cell_type": "markdown",
   "source": [
    "## 5\\. Exploring and Using Pre-Built Models\n",
    "\n",
    "The `models` module is designed for convenience and rapid prototyping. It contains pre-built classes for many common physical models, saving you from writing the construction logic manually. A key feature is the ability to generate a symbolic, mathematical representation of the Hamiltonian using `SymPy`.\n",
    "\n",
    "### Catalog of Available Models\n",
    "\n",
    "#### Spin Models (1D)\n",
    "\n",
    "  * **1D Heisenberg Model (`HeisenbergModel`)**: Describes a 1D chain of interacting spins with anisotropic couplings ($J_x, J_y, J_z$) and an external magnetic field.\n",
    "\n",
    "      * `models.HeisenbergModel(lattice_length=10, jx=1, jy=1, jz=1, hx=0.5, pbc=True)`\n",
    "\n",
    "  * **1D Transverse Field Ising Model (`IsingModel`)**: Features a nearest-neighbor $S^xS^x$ interaction ($-J$) and a transverse magnetic field ($-h$).\n",
    "\n",
    "      * `models.IsingModel(lattice_length=10, j_coupling=1.0, h_field=0.5, pbc=True)`\n",
    "\n",
    "#### Fermionic Models (1D)\n",
    "\n",
    "  * **1D Kitaev Chain (`KitaevChain`)**: A model of spinless fermions famous for hosting Majorana zero modes. Includes terms for chemical potential, hopping, and p-wave pairing.\n",
    "\n",
    "      * `models.KitaevChain(lattice_length=10, chemical_potential=0.5, hopping=1.0, pairing_gap=1.0, pbc=False)`\n",
    "\n",
    "  * **Su-Schrieffer-Heeger (SSH) Model (`SSHModel`)**: A foundational model for topological physics with alternating hopping amplitudes.\n",
    "\n",
    "      * `models.SSHModel(num_cells=5, intra_cell_hopping=1.0, inter_cell_hopping=0.5, pbc=False)`\n",
    "\n",
    "  * **1D Hubbard Model (`HubbardModel1D`)**: Describes interacting spinful fermions with nearest-neighbor hopping ($-t$) and on-site repulsion ($U$).\n",
    "\n",
    "      * `models.HubbardModel1D(lattice_length=5, hopping=1.0, interaction=4.0, pbc=True)`\n",
    "\n",
    "#### 2D Lattice Models\n",
    "\n",
    "  * **2D Heisenberg Model (`HeisenbergModel2D`)**: The 2D extension of the Heisenberg model on a square lattice.\n",
    "\n",
    "      * `models.HeisenbergModel2D(width=4, height=4, jx=1, jy=1, jz=1, hx=0.5, pbc=True)`\n",
    "\n",
    "  * **2D Transverse Field Ising Model (`IsingModel2D`)**: The 2D TFIM on a square lattice.\n",
    "\n",
    "      * `models.IsingModel2D(width=4, height=4, j_coupling=1.0, h_field=0.5, pbc=True)`\n",
    "\n",
    "  * **2D Bose-Hubbard Model (`BoseHubbardModel2D`)**: Describes soft-core bosons on a 2D square lattice with hopping, interaction, and a maximum number of bosons per site (`n_max`).\n",
    "\n",
    "      * `models.BoseHubbardModel2D(width=3, height=3, hopping=1.0, interaction=5.0, n_max=3, pbc=True)`\n",
    "\n",
    "  * **2D t-J Model (`TJModel2D`)**: An effective model for strongly correlated electrons with projected hopping ($-t$) and antiferromagnetic exchange ($J$).\n",
    "\n",
    "      * `models.TJModel2D(width=3, height=3, hopping=1.0, exchange=0.4, pbc=True)`\n",
    "\n",
    "  * **Kitaev Honeycomb Model (`KitaevHoneycombModel`)**: An exactly solvable model of a quantum spin liquid with bond-dependent Ising interactions on a honeycomb lattice.\n",
    "\n",
    "      * `models.KitaevHoneycombModel(u_cells=2, v_cells=2, jx=1, jy=1, jz=1, pbc=True)`\n",
    "\n",
    "### Example: Using a Pre-Built Model\n",
    "\n",
    "Let's see how to use one of these classes in practice."
   ],
   "id": "660aad515926e6d0"
  },
  {
   "metadata": {
    "ExecuteTime": {
     "end_time": "2025-09-24T05:22:51.285591Z",
     "start_time": "2025-09-24T05:22:51.158772Z"
    }
   },
   "cell_type": "code",
   "source": [
    "from quantum_simulation import models\n",
    "\n",
    "# --- Step 1: Instantiate the model class with physical parameters ---\n",
    "heisenberg_2d = models.HeisenbergModel2D(\n",
    "    width=2,\n",
    "    height=2,\n",
    "    jx=1.0,\n",
    "    jy=1.0,\n",
    "    jz=1.5, # Anisotropic coupling (XXZ model)\n",
    "    hx=0.3,\n",
    "    hy=0.0,\n",
    "    hz=0.0,\n",
    "    pbc=True\n",
    ")\n",
    "\n",
    "# --- Step 2: Build the Hamiltonian matrix ---\n",
    "H_heisenberg_2d = heisenberg_2d.build()\n",
    "\n",
    "print(\"Built 2x2 Heisenberg Hamiltonian.\")\n",
    "print(\"Matrix shape:\", H_heisenberg_2d.shape)\n",
    "\n",
    "# --- Step 3: Display the symbolic Hamiltonian ---\n",
    "heisenberg_2d.display_hamiltonian()"
   ],
   "id": "5a60e0806955cff2",
   "outputs": [
    {
     "name": "stdout",
     "output_type": "stream",
     "text": [
      "Built 2x2 Heisenberg Hamiltonian.\n",
      "Matrix shape: torch.Size([16, 16])\n",
      "Symbolic Hamiltonian:\n"
     ]
    },
    {
     "data": {
      "text/plain": [
       "\\sum_{\\langle i,j \\rangle}(Jₓ⋅S_i__x⋅S_j__x + J_y⋅S_i__y⋅S_j__y + J_z⋅S_i__z⋅S ↪\n",
       "\n",
       "↪ _j__z) - \\sum_{i}(S_i__x⋅hₓ + S_i__y⋅h_y + S_i__z⋅h_z)"
      ],
      "text/latex": "$\\displaystyle \\sum_{\\langle i,j \\rangle}{\\left(J_{x} S^{x}_{i} S^{x}_{j} + J_{y} S^{y}_{i} S^{y}_{j} + J_{z} S^{z}_{i} S^{z}_{j} \\right)} - \\sum_{i}{\\left(S^{x}_{i} h_{x} + S^{y}_{i} h_{y} + S^{z}_{i} h_{z} \\right)}$"
     },
     "metadata": {},
     "output_type": "display_data"
    }
   ],
   "execution_count": 5
  },
  {
   "metadata": {},
   "cell_type": "markdown",
   "source": [
    "## 6\\. Special Case: The `add_prebuilt_term` Method\n",
    "\n",
    "If you have a term that is difficult to construct or already calculated, the `add_prebuilt_term` method allows you to add a raw matrix directly. For example, we can add a constant energy shift, $C \\times I$, to the system."
   ],
   "id": "3cbc1490d5e57aa4"
  },
  {
   "metadata": {
    "ExecuteTime": {
     "end_time": "2025-09-24T05:22:51.318626Z",
     "start_time": "2025-09-24T05:22:51.295728Z"
    }
   },
   "cell_type": "code",
   "source": [
    "from quantum_simulation.hamiltonian import Hamiltonian\n",
    "from quantum_simulation import operator as op\n",
    "import quantum_simulation as qs\n",
    "\n",
    "# We'll re-initialize a builder for this example\n",
    "L = 4\n",
    "h = 0.5\n",
    "builder_prebuilt = Hamiltonian(lattice_length=L, spin=0.5)\n",
    "\n",
    "# Add a normal term\n",
    "builder_prebuilt.add_spin_term(coefficient=-h, operators=[op.S_z], sites=[0])\n",
    "\n",
    "# Now, create and add a pre-built identity matrix term\n",
    "energy_shift_constant = 10.0\n",
    "identity_matrix = torch.eye(builder_prebuilt.total_dim)\n",
    "prebuilt_term_matrix = energy_shift_constant * identity_matrix\n",
    "\n",
    "builder_prebuilt.add_prebuilt_term(prebuilt_term_matrix)\n",
    "print(f\"Added a pre-built term corresponding to an energy shift of {energy_shift_constant}.\")\n",
    "\n",
    "# Build the final Hamiltonian\n",
    "H_with_shift = builder_prebuilt.build()\n",
    "\n",
    "print(\"\\nHamiltonian with only H_z(0) term and energy shift:\")\n",
    "qs.show_matrix(H_with_shift)"
   ],
   "id": "1ac95f901e0d8c69",
   "outputs": [
    {
     "name": "stdout",
     "output_type": "stream",
     "text": [
      "Added a pre-built term corresponding to an energy shift of 10.0.\n",
      "\n",
      "Hamiltonian with only H_z(0) term and energy shift:\n"
     ]
    },
    {
     "data": {
      "text/plain": [
       "⎡9.75   0     0     0     0     0     0     0      0      0      0      0      ↪\n",
       "⎢                                                                              ↪\n",
       "⎢ 0    9.75   0     0     0     0     0     0      0      0      0      0      ↪\n",
       "⎢                                                                              ↪\n",
       "⎢ 0     0    9.75   0     0     0     0     0      0      0      0      0      ↪\n",
       "⎢                                                                              ↪\n",
       "⎢ 0     0     0    9.75   0     0     0     0      0      0      0      0      ↪\n",
       "⎢                                                                              ↪\n",
       "⎢ 0     0     0     0    9.75   0     0     0      0      0      0      0      ↪\n",
       "⎢                                                                              ↪\n",
       "⎢ 0     0     0     0     0    9.75   0     0      0      0      0      0      ↪\n",
       "⎢                                                                              ↪\n",
       "⎢ 0     0     0     0     0     0    9.75   0      0      0      0      0      ↪\n",
       "⎢                                                                              ↪\n",
       "⎢ 0     0     0     0     0     0     0    9.75    0      0      0      0      ↪\n",
       "⎢                                                                              ↪\n",
       "⎢ 0     0     0     0     0     0     0     0    10.25    0      0      0      ↪\n",
       "⎢                                                                              ↪\n",
       "⎢ 0     0     0     0     0     0     0     0      0    10.25    0      0      ↪\n",
       "⎢                                                                              ↪\n",
       "⎢ 0     0     0     0     0     0     0     0      0      0    10.25    0      ↪\n",
       "⎢                                                                              ↪\n",
       "⎢ 0     0     0     0     0     0     0     0      0      0      0    10.25    ↪\n",
       "⎢                                                                              ↪\n",
       "⎢ 0     0     0     0     0     0     0     0      0      0      0      0    1 ↪\n",
       "⎢                                                                              ↪\n",
       "⎢ 0     0     0     0     0     0     0     0      0      0      0      0      ↪\n",
       "⎢                                                                              ↪\n",
       "⎢ 0     0     0     0     0     0     0     0      0      0      0      0      ↪\n",
       "⎢                                                                              ↪\n",
       "⎣ 0     0     0     0     0     0     0     0      0      0      0      0      ↪\n",
       "\n",
       "↪  0      0      0      0  ⎤\n",
       "↪                          ⎥\n",
       "↪  0      0      0      0  ⎥\n",
       "↪                          ⎥\n",
       "↪  0      0      0      0  ⎥\n",
       "↪                          ⎥\n",
       "↪  0      0      0      0  ⎥\n",
       "↪                          ⎥\n",
       "↪  0      0      0      0  ⎥\n",
       "↪                          ⎥\n",
       "↪  0      0      0      0  ⎥\n",
       "↪                          ⎥\n",
       "↪  0      0      0      0  ⎥\n",
       "↪                          ⎥\n",
       "↪  0      0      0      0  ⎥\n",
       "↪                          ⎥\n",
       "↪  0      0      0      0  ⎥\n",
       "↪                          ⎥\n",
       "↪  0      0      0      0  ⎥\n",
       "↪                          ⎥\n",
       "↪  0      0      0      0  ⎥\n",
       "↪                          ⎥\n",
       "↪  0      0      0      0  ⎥\n",
       "↪                          ⎥\n",
       "↪ 0.25    0      0      0  ⎥\n",
       "↪                          ⎥\n",
       "↪  0    10.25    0      0  ⎥\n",
       "↪                          ⎥\n",
       "↪  0      0    10.25    0  ⎥\n",
       "↪                          ⎥\n",
       "↪  0      0      0    10.25⎦"
      ],
      "text/latex": "$\\displaystyle \\left[\\begin{array}{cccccccccccccccc}9.75 & 0 & 0 & 0 & 0 & 0 & 0 & 0 & 0 & 0 & 0 & 0 & 0 & 0 & 0 & 0\\\\0 & 9.75 & 0 & 0 & 0 & 0 & 0 & 0 & 0 & 0 & 0 & 0 & 0 & 0 & 0 & 0\\\\0 & 0 & 9.75 & 0 & 0 & 0 & 0 & 0 & 0 & 0 & 0 & 0 & 0 & 0 & 0 & 0\\\\0 & 0 & 0 & 9.75 & 0 & 0 & 0 & 0 & 0 & 0 & 0 & 0 & 0 & 0 & 0 & 0\\\\0 & 0 & 0 & 0 & 9.75 & 0 & 0 & 0 & 0 & 0 & 0 & 0 & 0 & 0 & 0 & 0\\\\0 & 0 & 0 & 0 & 0 & 9.75 & 0 & 0 & 0 & 0 & 0 & 0 & 0 & 0 & 0 & 0\\\\0 & 0 & 0 & 0 & 0 & 0 & 9.75 & 0 & 0 & 0 & 0 & 0 & 0 & 0 & 0 & 0\\\\0 & 0 & 0 & 0 & 0 & 0 & 0 & 9.75 & 0 & 0 & 0 & 0 & 0 & 0 & 0 & 0\\\\0 & 0 & 0 & 0 & 0 & 0 & 0 & 0 & 10.25 & 0 & 0 & 0 & 0 & 0 & 0 & 0\\\\0 & 0 & 0 & 0 & 0 & 0 & 0 & 0 & 0 & 10.25 & 0 & 0 & 0 & 0 & 0 & 0\\\\0 & 0 & 0 & 0 & 0 & 0 & 0 & 0 & 0 & 0 & 10.25 & 0 & 0 & 0 & 0 & 0\\\\0 & 0 & 0 & 0 & 0 & 0 & 0 & 0 & 0 & 0 & 0 & 10.25 & 0 & 0 & 0 & 0\\\\0 & 0 & 0 & 0 & 0 & 0 & 0 & 0 & 0 & 0 & 0 & 0 & 10.25 & 0 & 0 & 0\\\\0 & 0 & 0 & 0 & 0 & 0 & 0 & 0 & 0 & 0 & 0 & 0 & 0 & 10.25 & 0 & 0\\\\0 & 0 & 0 & 0 & 0 & 0 & 0 & 0 & 0 & 0 & 0 & 0 & 0 & 0 & 10.25 & 0\\\\0 & 0 & 0 & 0 & 0 & 0 & 0 & 0 & 0 & 0 & 0 & 0 & 0 & 0 & 0 & 10.25\\end{array}\\right]$"
     },
     "execution_count": 6,
     "metadata": {},
     "output_type": "execute_result"
    }
   ],
   "execution_count": 6
  },
  {
   "metadata": {},
   "cell_type": "markdown",
   "source": [
    "## 7\\. Conclusion\n",
    "\n",
    "Congratulations\\! You have now learned how to use the `quantum_simulation` toolkit to construct Hamiltonians for arbitrary lattice models.\n",
    "\n",
    "You have learned to:\n",
    "\n",
    "  * **Build from scratch:** Use the `Hamiltonian` class with `add_spin_term` and `add_fermion_term` for full, low-level control.\n",
    "  * **Use convenience classes:** Leverage the `models` module to quickly generate Hamiltonians for common physical systems and to visualize their mathematical formulas.\n",
    "  * **Handle special cases:** Inject pre-calculated matrices directly into the builder when needed.\n",
    "\n",
    "This flexible, multi-layered design allows for both rapid prototyping of standard models and detailed construction of novel, complex Hamiltonians. Happy simulating\\!"
   ],
   "id": "8d8df8b767351abe"
  }
 ],
 "metadata": {
  "kernelspec": {
   "display_name": "Python 3",
   "language": "python",
   "name": "python3"
  },
  "language_info": {
   "codemirror_mode": {
    "name": "ipython",
    "version": 2
   },
   "file_extension": ".py",
   "mimetype": "text/x-python",
   "name": "python",
   "nbconvert_exporter": "python",
   "pygments_lexer": "ipython2",
   "version": "2.7.6"
  }
 },
 "nbformat": 4,
 "nbformat_minor": 5
}
